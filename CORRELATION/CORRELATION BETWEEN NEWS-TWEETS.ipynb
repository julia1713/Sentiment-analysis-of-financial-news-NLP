{
 "cells": [
  {
   "cell_type": "markdown",
   "metadata": {},
   "source": [
    "## GOAL: CHECK IF NEWS AND TWEETS ARE CORRELATED \n",
    "\n",
    "Correlation coefficients used are: Pearson, Spearman, Kendall, CCF for every lag    \n",
    "Level of confidence for every coefficient is 95%"
   ]
  },
  {
   "cell_type": "code",
   "execution_count": 88,
   "metadata": {},
   "outputs": [],
   "source": [
    "import pandas as pd"
   ]
  },
  {
   "cell_type": "markdown",
   "metadata": {},
   "source": [
    "## VADER"
   ]
  },
  {
   "cell_type": "code",
   "execution_count": 92,
   "metadata": {},
   "outputs": [
    {
     "data": {
      "text/html": [
       "<div>\n",
       "<style scoped>\n",
       "    .dataframe tbody tr th:only-of-type {\n",
       "        vertical-align: middle;\n",
       "    }\n",
       "\n",
       "    .dataframe tbody tr th {\n",
       "        vertical-align: top;\n",
       "    }\n",
       "\n",
       "    .dataframe thead th {\n",
       "        text-align: right;\n",
       "    }\n",
       "</style>\n",
       "<table border=\"1\" class=\"dataframe\">\n",
       "  <thead>\n",
       "    <tr style=\"text-align: right;\">\n",
       "      <th></th>\n",
       "      <th>vader_score</th>\n",
       "    </tr>\n",
       "    <tr>\n",
       "      <th>date</th>\n",
       "      <th></th>\n",
       "    </tr>\n",
       "  </thead>\n",
       "  <tbody>\n",
       "    <tr>\n",
       "      <th>2020-01-01</th>\n",
       "      <td>0.169288</td>\n",
       "    </tr>\n",
       "    <tr>\n",
       "      <th>2020-01-02</th>\n",
       "      <td>0.144309</td>\n",
       "    </tr>\n",
       "    <tr>\n",
       "      <th>2020-01-03</th>\n",
       "      <td>0.107039</td>\n",
       "    </tr>\n",
       "    <tr>\n",
       "      <th>2020-01-04</th>\n",
       "      <td>0.012900</td>\n",
       "    </tr>\n",
       "    <tr>\n",
       "      <th>2020-01-05</th>\n",
       "      <td>-0.014406</td>\n",
       "    </tr>\n",
       "    <tr>\n",
       "      <th>...</th>\n",
       "      <td>...</td>\n",
       "    </tr>\n",
       "    <tr>\n",
       "      <th>2020-08-24</th>\n",
       "      <td>0.048212</td>\n",
       "    </tr>\n",
       "    <tr>\n",
       "      <th>2020-08-25</th>\n",
       "      <td>0.061023</td>\n",
       "    </tr>\n",
       "    <tr>\n",
       "      <th>2020-08-26</th>\n",
       "      <td>0.062438</td>\n",
       "    </tr>\n",
       "    <tr>\n",
       "      <th>2020-08-27</th>\n",
       "      <td>0.068652</td>\n",
       "    </tr>\n",
       "    <tr>\n",
       "      <th>2020-08-28</th>\n",
       "      <td>0.050604</td>\n",
       "    </tr>\n",
       "  </tbody>\n",
       "</table>\n",
       "<p>241 rows × 1 columns</p>\n",
       "</div>"
      ],
      "text/plain": [
       "            vader_score\n",
       "date                   \n",
       "2020-01-01     0.169288\n",
       "2020-01-02     0.144309\n",
       "2020-01-03     0.107039\n",
       "2020-01-04     0.012900\n",
       "2020-01-05    -0.014406\n",
       "...                 ...\n",
       "2020-08-24     0.048212\n",
       "2020-08-25     0.061023\n",
       "2020-08-26     0.062438\n",
       "2020-08-27     0.068652\n",
       "2020-08-28     0.050604\n",
       "\n",
       "[241 rows x 1 columns]"
      ]
     },
     "execution_count": 92,
     "metadata": {},
     "output_type": "execute_result"
    }
   ],
   "source": [
    "news_vader = pd.read_csv('sentiment_index/news_vader_score.csv', index_col=[0])\n",
    "news_vader"
   ]
  },
  {
   "cell_type": "code",
   "execution_count": 94,
   "metadata": {},
   "outputs": [
    {
     "data": {
      "text/html": [
       "<div>\n",
       "<style scoped>\n",
       "    .dataframe tbody tr th:only-of-type {\n",
       "        vertical-align: middle;\n",
       "    }\n",
       "\n",
       "    .dataframe tbody tr th {\n",
       "        vertical-align: top;\n",
       "    }\n",
       "\n",
       "    .dataframe thead th {\n",
       "        text-align: right;\n",
       "    }\n",
       "</style>\n",
       "<table border=\"1\" class=\"dataframe\">\n",
       "  <thead>\n",
       "    <tr style=\"text-align: right;\">\n",
       "      <th></th>\n",
       "      <th>vader_score</th>\n",
       "    </tr>\n",
       "    <tr>\n",
       "      <th>date</th>\n",
       "      <th></th>\n",
       "    </tr>\n",
       "  </thead>\n",
       "  <tbody>\n",
       "    <tr>\n",
       "      <th>2020-01-01</th>\n",
       "      <td>0.086978</td>\n",
       "    </tr>\n",
       "    <tr>\n",
       "      <th>2020-01-02</th>\n",
       "      <td>0.082749</td>\n",
       "    </tr>\n",
       "    <tr>\n",
       "      <th>2020-01-03</th>\n",
       "      <td>0.007559</td>\n",
       "    </tr>\n",
       "    <tr>\n",
       "      <th>2020-01-04</th>\n",
       "      <td>-0.014918</td>\n",
       "    </tr>\n",
       "    <tr>\n",
       "      <th>2020-01-05</th>\n",
       "      <td>0.013048</td>\n",
       "    </tr>\n",
       "    <tr>\n",
       "      <th>...</th>\n",
       "      <td>...</td>\n",
       "    </tr>\n",
       "    <tr>\n",
       "      <th>2020-08-26</th>\n",
       "      <td>0.097091</td>\n",
       "    </tr>\n",
       "    <tr>\n",
       "      <th>2020-08-27</th>\n",
       "      <td>0.123987</td>\n",
       "    </tr>\n",
       "    <tr>\n",
       "      <th>2020-08-28</th>\n",
       "      <td>0.137380</td>\n",
       "    </tr>\n",
       "    <tr>\n",
       "      <th>2020-08-29</th>\n",
       "      <td>0.130834</td>\n",
       "    </tr>\n",
       "    <tr>\n",
       "      <th>2020-08-30</th>\n",
       "      <td>0.137854</td>\n",
       "    </tr>\n",
       "  </tbody>\n",
       "</table>\n",
       "<p>237 rows × 1 columns</p>\n",
       "</div>"
      ],
      "text/plain": [
       "            vader_score\n",
       "date                   \n",
       "2020-01-01     0.086978\n",
       "2020-01-02     0.082749\n",
       "2020-01-03     0.007559\n",
       "2020-01-04    -0.014918\n",
       "2020-01-05     0.013048\n",
       "...                 ...\n",
       "2020-08-26     0.097091\n",
       "2020-08-27     0.123987\n",
       "2020-08-28     0.137380\n",
       "2020-08-29     0.130834\n",
       "2020-08-30     0.137854\n",
       "\n",
       "[237 rows x 1 columns]"
      ]
     },
     "execution_count": 94,
     "metadata": {},
     "output_type": "execute_result"
    }
   ],
   "source": [
    "tweets_vader = pd.read_csv('sentiment_index/tweets_vader_score.csv', index_col=[0])\n",
    "tweets_vader"
   ]
  },
  {
   "cell_type": "code",
   "execution_count": 95,
   "metadata": {},
   "outputs": [
    {
     "data": {
      "text/html": [
       "<div>\n",
       "<style scoped>\n",
       "    .dataframe tbody tr th:only-of-type {\n",
       "        vertical-align: middle;\n",
       "    }\n",
       "\n",
       "    .dataframe tbody tr th {\n",
       "        vertical-align: top;\n",
       "    }\n",
       "\n",
       "    .dataframe thead th {\n",
       "        text-align: right;\n",
       "    }\n",
       "</style>\n",
       "<table border=\"1\" class=\"dataframe\">\n",
       "  <thead>\n",
       "    <tr style=\"text-align: right;\">\n",
       "      <th></th>\n",
       "      <th>vader_score_x</th>\n",
       "      <th>vader_score_y</th>\n",
       "    </tr>\n",
       "    <tr>\n",
       "      <th>date</th>\n",
       "      <th></th>\n",
       "      <th></th>\n",
       "    </tr>\n",
       "  </thead>\n",
       "  <tbody>\n",
       "    <tr>\n",
       "      <th>2020-01-01</th>\n",
       "      <td>0.086978</td>\n",
       "      <td>0.169288</td>\n",
       "    </tr>\n",
       "    <tr>\n",
       "      <th>2020-01-02</th>\n",
       "      <td>0.082749</td>\n",
       "      <td>0.144309</td>\n",
       "    </tr>\n",
       "    <tr>\n",
       "      <th>2020-01-03</th>\n",
       "      <td>0.007559</td>\n",
       "      <td>0.107039</td>\n",
       "    </tr>\n",
       "    <tr>\n",
       "      <th>2020-01-04</th>\n",
       "      <td>-0.014918</td>\n",
       "      <td>0.012900</td>\n",
       "    </tr>\n",
       "    <tr>\n",
       "      <th>2020-01-05</th>\n",
       "      <td>0.013048</td>\n",
       "      <td>-0.014406</td>\n",
       "    </tr>\n",
       "    <tr>\n",
       "      <th>...</th>\n",
       "      <td>...</td>\n",
       "      <td>...</td>\n",
       "    </tr>\n",
       "    <tr>\n",
       "      <th>2020-08-24</th>\n",
       "      <td>0.078811</td>\n",
       "      <td>0.048212</td>\n",
       "    </tr>\n",
       "    <tr>\n",
       "      <th>2020-08-25</th>\n",
       "      <td>0.127827</td>\n",
       "      <td>0.061023</td>\n",
       "    </tr>\n",
       "    <tr>\n",
       "      <th>2020-08-26</th>\n",
       "      <td>0.097091</td>\n",
       "      <td>0.062438</td>\n",
       "    </tr>\n",
       "    <tr>\n",
       "      <th>2020-08-27</th>\n",
       "      <td>0.123987</td>\n",
       "      <td>0.068652</td>\n",
       "    </tr>\n",
       "    <tr>\n",
       "      <th>2020-08-28</th>\n",
       "      <td>0.137380</td>\n",
       "      <td>0.050604</td>\n",
       "    </tr>\n",
       "  </tbody>\n",
       "</table>\n",
       "<p>235 rows × 2 columns</p>\n",
       "</div>"
      ],
      "text/plain": [
       "            vader_score_x  vader_score_y\n",
       "date                                    \n",
       "2020-01-01       0.086978       0.169288\n",
       "2020-01-02       0.082749       0.144309\n",
       "2020-01-03       0.007559       0.107039\n",
       "2020-01-04      -0.014918       0.012900\n",
       "2020-01-05       0.013048      -0.014406\n",
       "...                   ...            ...\n",
       "2020-08-24       0.078811       0.048212\n",
       "2020-08-25       0.127827       0.061023\n",
       "2020-08-26       0.097091       0.062438\n",
       "2020-08-27       0.123987       0.068652\n",
       "2020-08-28       0.137380       0.050604\n",
       "\n",
       "[235 rows x 2 columns]"
      ]
     },
     "execution_count": 95,
     "metadata": {},
     "output_type": "execute_result"
    }
   ],
   "source": [
    "#merge on date\n",
    "vader_nt=tweets_vader.merge(news_vader, on=['date'])\n",
    "vader_nt"
   ]
  },
  {
   "cell_type": "code",
   "execution_count": 117,
   "metadata": {},
   "outputs": [
    {
     "data": {
      "text/html": [
       "<div>\n",
       "<style scoped>\n",
       "    .dataframe tbody tr th:only-of-type {\n",
       "        vertical-align: middle;\n",
       "    }\n",
       "\n",
       "    .dataframe tbody tr th {\n",
       "        vertical-align: top;\n",
       "    }\n",
       "\n",
       "    .dataframe thead th {\n",
       "        text-align: right;\n",
       "    }\n",
       "</style>\n",
       "<table border=\"1\" class=\"dataframe\">\n",
       "  <thead>\n",
       "    <tr style=\"text-align: right;\">\n",
       "      <th></th>\n",
       "      <th>vader_score_x</th>\n",
       "      <th>vader_score_y</th>\n",
       "      <th>x_labels</th>\n",
       "      <th>y_labels</th>\n",
       "    </tr>\n",
       "    <tr>\n",
       "      <th>date</th>\n",
       "      <th></th>\n",
       "      <th></th>\n",
       "      <th></th>\n",
       "      <th></th>\n",
       "    </tr>\n",
       "  </thead>\n",
       "  <tbody>\n",
       "    <tr>\n",
       "      <th>2020-01-01</th>\n",
       "      <td>0.086978</td>\n",
       "      <td>0.169288</td>\n",
       "      <td>1</td>\n",
       "      <td>1</td>\n",
       "    </tr>\n",
       "    <tr>\n",
       "      <th>2020-01-02</th>\n",
       "      <td>0.082749</td>\n",
       "      <td>0.144309</td>\n",
       "      <td>1</td>\n",
       "      <td>1</td>\n",
       "    </tr>\n",
       "    <tr>\n",
       "      <th>2020-01-03</th>\n",
       "      <td>0.007559</td>\n",
       "      <td>0.107039</td>\n",
       "      <td>0</td>\n",
       "      <td>1</td>\n",
       "    </tr>\n",
       "    <tr>\n",
       "      <th>2020-01-04</th>\n",
       "      <td>-0.014918</td>\n",
       "      <td>0.012900</td>\n",
       "      <td>0</td>\n",
       "      <td>0</td>\n",
       "    </tr>\n",
       "    <tr>\n",
       "      <th>2020-01-05</th>\n",
       "      <td>0.013048</td>\n",
       "      <td>-0.014406</td>\n",
       "      <td>0</td>\n",
       "      <td>0</td>\n",
       "    </tr>\n",
       "    <tr>\n",
       "      <th>...</th>\n",
       "      <td>...</td>\n",
       "      <td>...</td>\n",
       "      <td>...</td>\n",
       "      <td>...</td>\n",
       "    </tr>\n",
       "    <tr>\n",
       "      <th>2020-08-24</th>\n",
       "      <td>0.078811</td>\n",
       "      <td>0.048212</td>\n",
       "      <td>1</td>\n",
       "      <td>1</td>\n",
       "    </tr>\n",
       "    <tr>\n",
       "      <th>2020-08-25</th>\n",
       "      <td>0.127827</td>\n",
       "      <td>0.061023</td>\n",
       "      <td>1</td>\n",
       "      <td>1</td>\n",
       "    </tr>\n",
       "    <tr>\n",
       "      <th>2020-08-26</th>\n",
       "      <td>0.097091</td>\n",
       "      <td>0.062438</td>\n",
       "      <td>1</td>\n",
       "      <td>1</td>\n",
       "    </tr>\n",
       "    <tr>\n",
       "      <th>2020-08-27</th>\n",
       "      <td>0.123987</td>\n",
       "      <td>0.068652</td>\n",
       "      <td>1</td>\n",
       "      <td>1</td>\n",
       "    </tr>\n",
       "    <tr>\n",
       "      <th>2020-08-28</th>\n",
       "      <td>0.137380</td>\n",
       "      <td>0.050604</td>\n",
       "      <td>1</td>\n",
       "      <td>1</td>\n",
       "    </tr>\n",
       "  </tbody>\n",
       "</table>\n",
       "<p>235 rows × 4 columns</p>\n",
       "</div>"
      ],
      "text/plain": [
       "            vader_score_x  vader_score_y x_labels y_labels\n",
       "date                                                      \n",
       "2020-01-01       0.086978       0.169288        1        1\n",
       "2020-01-02       0.082749       0.144309        1        1\n",
       "2020-01-03       0.007559       0.107039        0        1\n",
       "2020-01-04      -0.014918       0.012900        0        0\n",
       "2020-01-05       0.013048      -0.014406        0        0\n",
       "...                   ...            ...      ...      ...\n",
       "2020-08-24       0.078811       0.048212        1        1\n",
       "2020-08-25       0.127827       0.061023        1        1\n",
       "2020-08-26       0.097091       0.062438        1        1\n",
       "2020-08-27       0.123987       0.068652        1        1\n",
       "2020-08-28       0.137380       0.050604        1        1\n",
       "\n",
       "[235 rows x 4 columns]"
      ]
     },
     "execution_count": 117,
     "metadata": {},
     "output_type": "execute_result"
    }
   ],
   "source": [
    "#level of agreement: enconding labels considering threshold = 0.025\n",
    "\n",
    "vader_nt['x_labels']=''\n",
    "vader_nt['y_labels']=''\n",
    "\n",
    "vader_nt.loc[vader_nt[\"vader_score_x\"]>0.025, \"x_labels\"] = 1\n",
    "vader_nt.loc[vader_nt[\"vader_score_x\"]<-0.025, \"x_labels\"] = -1\n",
    "vader_nt.loc[(vader_nt[\"vader_score_x\"]> -0.025) & (vader_nt[\"vader_score_x\"] <0.025), \"x_labels\"] = 0\n",
    "\n",
    "vader_nt.loc[vader_nt[\"vader_score_y\"]>0.025, \"y_labels\"] = 1\n",
    "vader_nt.loc[vader_nt[\"vader_score_y\"]<-0.025, \"y_labels\"] = -1\n",
    "vader_nt.loc[(vader_nt[\"vader_score_y\"]> -0.025) & (vader_nt[\"vader_score_y\"] <0.025), \"y_labels\"] = 0\n",
    "\n",
    "vader_nt"
   ]
  },
  {
   "cell_type": "code",
   "execution_count": 118,
   "metadata": {},
   "outputs": [
    {
     "data": {
      "text/plain": [
       "True     140\n",
       "False     95\n",
       "Name: comparison, dtype: int64"
      ]
     },
     "execution_count": 118,
     "metadata": {},
     "output_type": "execute_result"
    }
   ],
   "source": [
    "vader_nt['comparison'] = vader_nt['x_labels'] == vader_nt['y_labels']\n",
    "vader_nt['comparison'].value_counts()"
   ]
  },
  {
   "cell_type": "code",
   "execution_count": 119,
   "metadata": {},
   "outputs": [
    {
     "data": {
      "text/plain": [
       "True     0.595745\n",
       "False    0.404255\n",
       "Name: comparison, dtype: float64"
      ]
     },
     "execution_count": 119,
     "metadata": {},
     "output_type": "execute_result"
    }
   ],
   "source": [
    "vader_nt['comparison'].value_counts(normalize=True)"
   ]
  },
  {
   "cell_type": "code",
   "execution_count": 96,
   "metadata": {},
   "outputs": [
    {
     "data": {
      "text/plain": [
       "(-0.21198820288886638, 0.0010768839216471855)"
      ]
     },
     "execution_count": 96,
     "metadata": {},
     "output_type": "execute_result"
    }
   ],
   "source": [
    "from scipy.stats import pearsonr\n",
    "pearsonr(vader_nt['vader_score_x'],vader_nt['vader_score_y'])"
   ]
  },
  {
   "cell_type": "code",
   "execution_count": 97,
   "metadata": {},
   "outputs": [
    {
     "data": {
      "text/html": [
       "<div>\n",
       "<style scoped>\n",
       "    .dataframe tbody tr th:only-of-type {\n",
       "        vertical-align: middle;\n",
       "    }\n",
       "\n",
       "    .dataframe tbody tr th {\n",
       "        vertical-align: top;\n",
       "    }\n",
       "\n",
       "    .dataframe thead th {\n",
       "        text-align: right;\n",
       "    }\n",
       "</style>\n",
       "<table border=\"1\" class=\"dataframe\">\n",
       "  <thead>\n",
       "    <tr style=\"text-align: right;\">\n",
       "      <th></th>\n",
       "      <th>n</th>\n",
       "      <th>r</th>\n",
       "      <th>CI95%</th>\n",
       "      <th>p-val</th>\n",
       "      <th>BF10</th>\n",
       "      <th>power</th>\n",
       "    </tr>\n",
       "  </thead>\n",
       "  <tbody>\n",
       "    <tr>\n",
       "      <th>pearson</th>\n",
       "      <td>235</td>\n",
       "      <td>-0.211988</td>\n",
       "      <td>[-0.33, -0.09]</td>\n",
       "      <td>0.001077</td>\n",
       "      <td>16.552</td>\n",
       "      <td>0.907411</td>\n",
       "    </tr>\n",
       "  </tbody>\n",
       "</table>\n",
       "</div>"
      ],
      "text/plain": [
       "           n         r           CI95%     p-val    BF10     power\n",
       "pearson  235 -0.211988  [-0.33, -0.09]  0.001077  16.552  0.907411"
      ]
     },
     "execution_count": 97,
     "metadata": {},
     "output_type": "execute_result"
    }
   ],
   "source": [
    "from pingouin import corr\n",
    "corr(vader_nt['vader_score_x'],vader_nt['vader_score_y'], method= 'pearson')"
   ]
  },
  {
   "cell_type": "markdown",
   "metadata": {},
   "source": [
    "RESULT: NEGATIVE CORRELATION"
   ]
  },
  {
   "cell_type": "code",
   "execution_count": 98,
   "metadata": {},
   "outputs": [
    {
     "data": {
      "text/plain": [
       "SpearmanrResult(correlation=-0.28391263742868494, pvalue=9.852238610369549e-06)"
      ]
     },
     "execution_count": 98,
     "metadata": {},
     "output_type": "execute_result"
    }
   ],
   "source": [
    "from scipy.stats import spearmanr\n",
    "spearmanr(vader_nt['vader_score_x'],vader_nt['vader_score_y'])"
   ]
  },
  {
   "cell_type": "code",
   "execution_count": 99,
   "metadata": {},
   "outputs": [
    {
     "data": {
      "text/html": [
       "<div>\n",
       "<style scoped>\n",
       "    .dataframe tbody tr th:only-of-type {\n",
       "        vertical-align: middle;\n",
       "    }\n",
       "\n",
       "    .dataframe tbody tr th {\n",
       "        vertical-align: top;\n",
       "    }\n",
       "\n",
       "    .dataframe thead th {\n",
       "        text-align: right;\n",
       "    }\n",
       "</style>\n",
       "<table border=\"1\" class=\"dataframe\">\n",
       "  <thead>\n",
       "    <tr style=\"text-align: right;\">\n",
       "      <th></th>\n",
       "      <th>n</th>\n",
       "      <th>r</th>\n",
       "      <th>CI95%</th>\n",
       "      <th>p-val</th>\n",
       "      <th>power</th>\n",
       "    </tr>\n",
       "  </thead>\n",
       "  <tbody>\n",
       "    <tr>\n",
       "      <th>spearman</th>\n",
       "      <td>235</td>\n",
       "      <td>-0.283913</td>\n",
       "      <td>[-0.4, -0.16]</td>\n",
       "      <td>0.00001</td>\n",
       "      <td>0.993707</td>\n",
       "    </tr>\n",
       "  </tbody>\n",
       "</table>\n",
       "</div>"
      ],
      "text/plain": [
       "            n         r          CI95%    p-val     power\n",
       "spearman  235 -0.283913  [-0.4, -0.16]  0.00001  0.993707"
      ]
     },
     "execution_count": 99,
     "metadata": {},
     "output_type": "execute_result"
    }
   ],
   "source": [
    "corr(vader_nt['vader_score_x'],vader_nt['vader_score_y'], method= 'spearman')"
   ]
  },
  {
   "cell_type": "code",
   "execution_count": 100,
   "metadata": {},
   "outputs": [
    {
     "data": {
      "text/plain": [
       "KendalltauResult(correlation=-0.1868339698126932, pvalue=2.0044697164669517e-05)"
      ]
     },
     "execution_count": 100,
     "metadata": {},
     "output_type": "execute_result"
    }
   ],
   "source": [
    "import scipy.stats as stats\n",
    "stats.kendalltau(vader_nt['vader_score_x'],vader_nt['vader_score_y'])"
   ]
  },
  {
   "cell_type": "code",
   "execution_count": 101,
   "metadata": {},
   "outputs": [
    {
     "data": {
      "text/html": [
       "<div>\n",
       "<style scoped>\n",
       "    .dataframe tbody tr th:only-of-type {\n",
       "        vertical-align: middle;\n",
       "    }\n",
       "\n",
       "    .dataframe tbody tr th {\n",
       "        vertical-align: top;\n",
       "    }\n",
       "\n",
       "    .dataframe thead th {\n",
       "        text-align: right;\n",
       "    }\n",
       "</style>\n",
       "<table border=\"1\" class=\"dataframe\">\n",
       "  <thead>\n",
       "    <tr style=\"text-align: right;\">\n",
       "      <th></th>\n",
       "      <th>n</th>\n",
       "      <th>r</th>\n",
       "      <th>CI95%</th>\n",
       "      <th>p-val</th>\n",
       "      <th>power</th>\n",
       "    </tr>\n",
       "  </thead>\n",
       "  <tbody>\n",
       "    <tr>\n",
       "      <th>kendall</th>\n",
       "      <td>235</td>\n",
       "      <td>-0.186834</td>\n",
       "      <td>[-0.31, -0.06]</td>\n",
       "      <td>0.00002</td>\n",
       "      <td>0.822551</td>\n",
       "    </tr>\n",
       "  </tbody>\n",
       "</table>\n",
       "</div>"
      ],
      "text/plain": [
       "           n         r           CI95%    p-val     power\n",
       "kendall  235 -0.186834  [-0.31, -0.06]  0.00002  0.822551"
      ]
     },
     "execution_count": 101,
     "metadata": {},
     "output_type": "execute_result"
    }
   ],
   "source": [
    "corr(vader_nt['vader_score_x'],vader_nt['vader_score_y'], method= 'kendall')"
   ]
  },
  {
   "cell_type": "code",
   "execution_count": 102,
   "metadata": {},
   "outputs": [
    {
     "data": {
      "text/plain": [
       "array([-2.11988203e-01, -2.61092480e-01, -1.70313529e-01, -2.37661927e-01,\n",
       "       -2.49772355e-01, -2.05030301e-01, -2.66987351e-01, -2.36337743e-01,\n",
       "       -1.31017459e-01, -2.29037179e-01, -2.03941003e-01, -2.44960181e-01,\n",
       "       -2.87063594e-01, -3.29267339e-01, -3.21759514e-01, -2.11642901e-01,\n",
       "       -1.59551591e-01, -2.54430902e-01, -1.91279219e-01, -2.72629624e-01,\n",
       "       -3.22260893e-01, -2.10906395e-01, -2.98414980e-01, -3.08700243e-01,\n",
       "       -2.57939546e-01, -2.41632893e-01, -3.64190199e-01, -2.60220289e-01,\n",
       "       -2.63849333e-01, -2.50256189e-01, -1.98528507e-01, -2.35929959e-01,\n",
       "       -2.61115358e-01, -2.64901493e-01, -2.60990347e-01, -1.93432818e-01,\n",
       "       -1.81482563e-01, -1.49798133e-01, -1.57030514e-01, -2.29159115e-01,\n",
       "       -2.89698760e-01, -2.12987181e-01, -1.90229432e-01, -1.23197452e-01,\n",
       "       -1.36236931e-01, -8.16296137e-02, -1.20631602e-01, -6.97325692e-02,\n",
       "       -1.99734675e-01, -1.06084395e-01, -1.33231907e-01, -1.22854527e-01,\n",
       "       -7.89747362e-02, -1.54385616e-01, -2.04038796e-01, -7.34687866e-02,\n",
       "       -1.27640674e-01, -7.54864021e-02, -3.72672558e-02, -8.34986320e-02,\n",
       "       -1.01873821e-01, -1.18117749e-01, -4.12411423e-02,  2.51156100e-02,\n",
       "       -1.91885728e-02, -3.38570066e-02, -1.61016746e-02, -3.17416914e-02,\n",
       "       -3.57433993e-02,  2.24410033e-02, -2.43126286e-02,  1.95879639e-02,\n",
       "       -1.06564755e-02,  6.68503400e-03, -5.55042778e-02, -9.93286480e-02,\n",
       "        2.42681619e-02,  4.33456730e-02, -6.14570535e-03,  1.76020416e-02,\n",
       "        3.78673637e-02, -2.87565504e-02, -5.68677860e-03,  6.67245745e-02,\n",
       "        7.74523256e-02,  6.99508894e-02,  6.63290227e-02,  2.62945097e-02,\n",
       "       -3.44597789e-02, -4.37141989e-03,  7.86904942e-02,  7.15474567e-02,\n",
       "        7.97849241e-02,  6.31442758e-02,  9.31676353e-03, -1.34319209e-04,\n",
       "        5.41575145e-02,  1.16080203e-01,  1.29772721e-01,  1.15992164e-01,\n",
       "        4.11152726e-02,  2.33271618e-02, -2.14710559e-02,  5.54364247e-02,\n",
       "        6.65428609e-02,  1.13647126e-01,  1.37360364e-01,  7.29151759e-02,\n",
       "        1.31045387e-02,  1.24877407e-02,  4.45618266e-02,  6.44470789e-02,\n",
       "        8.31480532e-02,  8.39759266e-02, -3.61009164e-03, -1.75391741e-02,\n",
       "        5.11298795e-02,  6.80705765e-02,  6.62189032e-02,  1.00329638e-01,\n",
       "        7.76363701e-02,  4.78737445e-02,  3.18621562e-02,  5.31710364e-02,\n",
       "        8.67829644e-02,  7.64462573e-02,  1.23046922e-01,  1.09864792e-01,\n",
       "        6.19838681e-02,  5.76671284e-02,  4.95996087e-02,  1.07420320e-01,\n",
       "        1.26811514e-01,  1.18176658e-01,  1.00879274e-01,  7.25412573e-02,\n",
       "        7.60265151e-02,  1.11393265e-01,  1.33756624e-01,  1.18213065e-01,\n",
       "        1.12301537e-01,  8.54836798e-02,  1.08649245e-01,  9.51683468e-02,\n",
       "        1.36062066e-01,  1.56552816e-01,  1.59950838e-01,  1.45864523e-01,\n",
       "        1.32035924e-01,  1.03324854e-01,  9.41620526e-02,  1.32964168e-01,\n",
       "        1.51457506e-01,  1.50424130e-01,  1.44833508e-01,  1.11821427e-01,\n",
       "        1.08342508e-01,  1.05759185e-01,  1.24281927e-01,  1.53421680e-01,\n",
       "        1.32089647e-01,  8.90459056e-02,  8.15230092e-02,  1.00804085e-01,\n",
       "        9.79136057e-02,  1.15643773e-01,  1.49477728e-01,  1.35496880e-01,\n",
       "        1.15330903e-01,  1.06819145e-01,  1.02931840e-01,  9.75229426e-02,\n",
       "        1.20893991e-01,  1.34887773e-01,  1.29728087e-01,  1.09890241e-01,\n",
       "        8.90107648e-02,  9.03117856e-02,  1.00578769e-01,  1.39566211e-01,\n",
       "        1.27075021e-01,  1.21541322e-01,  9.23538864e-02,  6.48067969e-02,\n",
       "        8.36901037e-02,  8.64137204e-02,  8.68033980e-02,  9.84029127e-02,\n",
       "        8.02814955e-02,  7.16660428e-02,  5.37811707e-02,  7.62290170e-02,\n",
       "        7.92031414e-02,  8.24678971e-02,  8.83035083e-02,  7.30614925e-02,\n",
       "        4.03520949e-02,  2.67137094e-02,  4.14733686e-02,  4.32853270e-02,\n",
       "        4.91087898e-02,  4.44627325e-02,  3.31449374e-02,  1.56916008e-02,\n",
       "        1.59814632e-02,  4.08945018e-02,  4.04428811e-02,  4.08943803e-02,\n",
       "        3.15525658e-02,  3.40832646e-02,  2.05500208e-02,  1.58246419e-02,\n",
       "        2.68431030e-02,  3.02220535e-02,  2.44040261e-02,  3.99989544e-02,\n",
       "        3.04996091e-02,  4.47939273e-03,  1.15956869e-02,  1.74815597e-02,\n",
       "        2.53124853e-02,  1.91866317e-02,  1.59613843e-02, -4.17392863e-04,\n",
       "       -1.02866775e-02,  6.94266467e-03,  1.69644500e-02,  1.29088958e-02,\n",
       "        3.44002282e-03, -5.86421898e-04, -2.68743495e-03,  6.91831491e-03,\n",
       "        1.08767152e-02,  1.19368707e-02,  7.64114443e-03])"
      ]
     },
     "execution_count": 102,
     "metadata": {},
     "output_type": "execute_result"
    }
   ],
   "source": [
    "import statsmodels.api as sm\n",
    "#calculate cross correlation\n",
    "a=sm.tsa.stattools.ccf(vader_nt['vader_score_x'],vader_nt['vader_score_y'], adjusted=False)\n",
    "a"
   ]
  },
  {
   "cell_type": "code",
   "execution_count": 130,
   "metadata": {},
   "outputs": [
    {
     "data": {
      "image/png": "[encoded data removed]",
      "text/plain": [
       "<Figure size 540x252 with 1 Axes>"
      ]
     },
     "metadata": {
      "needs_background": "light"
     },
     "output_type": "display_data"
    }
   ],
   "source": [
    "import matplotlib.pylab as plt\n",
    "import numpy as np\n",
    "plt.stem(a)\n",
    "plt.xlabel('Lag')\n",
    "plt.ylabel('CCF')\n",
    "plt.title(\"Cross Correlation Function (CCF) between financial news and tweets over the first eight months of 2020 [VADER] \", pad=20)\n",
    "plt.axis([None, None, -0.4, 0.2])\n",
    "plt.xticks(np.arange(0, 250, step=20)) \n",
    "plt.savefig('images/corr_f_n_vader.png',  bbox_inches='tight')"
   ]
  },
  {
   "cell_type": "markdown",
   "metadata": {},
   "source": [
    "## FINBERT"
   ]
  },
  {
   "cell_type": "code",
   "execution_count": 104,
   "metadata": {},
   "outputs": [
    {
     "data": {
      "text/html": [
       "<div>\n",
       "<style scoped>\n",
       "    .dataframe tbody tr th:only-of-type {\n",
       "        vertical-align: middle;\n",
       "    }\n",
       "\n",
       "    .dataframe tbody tr th {\n",
       "        vertical-align: top;\n",
       "    }\n",
       "\n",
       "    .dataframe thead th {\n",
       "        text-align: right;\n",
       "    }\n",
       "</style>\n",
       "<table border=\"1\" class=\"dataframe\">\n",
       "  <thead>\n",
       "    <tr style=\"text-align: right;\">\n",
       "      <th></th>\n",
       "      <th>date</th>\n",
       "      <th>finbert_score</th>\n",
       "    </tr>\n",
       "  </thead>\n",
       "  <tbody>\n",
       "    <tr>\n",
       "      <th>0</th>\n",
       "      <td>2020-01-01</td>\n",
       "      <td>0.294918</td>\n",
       "    </tr>\n",
       "    <tr>\n",
       "      <th>1</th>\n",
       "      <td>2020-01-02</td>\n",
       "      <td>0.231394</td>\n",
       "    </tr>\n",
       "    <tr>\n",
       "      <th>2</th>\n",
       "      <td>2020-01-03</td>\n",
       "      <td>0.288113</td>\n",
       "    </tr>\n",
       "    <tr>\n",
       "      <th>3</th>\n",
       "      <td>2020-01-04</td>\n",
       "      <td>0.118191</td>\n",
       "    </tr>\n",
       "    <tr>\n",
       "      <th>4</th>\n",
       "      <td>2020-01-05</td>\n",
       "      <td>-0.012384</td>\n",
       "    </tr>\n",
       "    <tr>\n",
       "      <th>...</th>\n",
       "      <td>...</td>\n",
       "      <td>...</td>\n",
       "    </tr>\n",
       "    <tr>\n",
       "      <th>236</th>\n",
       "      <td>2020-08-24</td>\n",
       "      <td>0.099178</td>\n",
       "    </tr>\n",
       "    <tr>\n",
       "      <th>237</th>\n",
       "      <td>2020-08-25</td>\n",
       "      <td>0.104420</td>\n",
       "    </tr>\n",
       "    <tr>\n",
       "      <th>238</th>\n",
       "      <td>2020-08-26</td>\n",
       "      <td>0.105442</td>\n",
       "    </tr>\n",
       "    <tr>\n",
       "      <th>239</th>\n",
       "      <td>2020-08-27</td>\n",
       "      <td>0.139035</td>\n",
       "    </tr>\n",
       "    <tr>\n",
       "      <th>240</th>\n",
       "      <td>2020-08-28</td>\n",
       "      <td>0.110140</td>\n",
       "    </tr>\n",
       "  </tbody>\n",
       "</table>\n",
       "<p>241 rows × 2 columns</p>\n",
       "</div>"
      ],
      "text/plain": [
       "           date  finbert_score\n",
       "0    2020-01-01       0.294918\n",
       "1    2020-01-02       0.231394\n",
       "2    2020-01-03       0.288113\n",
       "3    2020-01-04       0.118191\n",
       "4    2020-01-05      -0.012384\n",
       "..          ...            ...\n",
       "236  2020-08-24       0.099178\n",
       "237  2020-08-25       0.104420\n",
       "238  2020-08-26       0.105442\n",
       "239  2020-08-27       0.139035\n",
       "240  2020-08-28       0.110140\n",
       "\n",
       "[241 rows x 2 columns]"
      ]
     },
     "execution_count": 104,
     "metadata": {},
     "output_type": "execute_result"
    }
   ],
   "source": [
    "news_finbert = pd.read_csv('sentiment_index/news_finbert_score.csv')\n",
    "news_finbert"
   ]
  },
  {
   "cell_type": "code",
   "execution_count": 105,
   "metadata": {},
   "outputs": [
    {
     "data": {
      "text/html": [
       "<div>\n",
       "<style scoped>\n",
       "    .dataframe tbody tr th:only-of-type {\n",
       "        vertical-align: middle;\n",
       "    }\n",
       "\n",
       "    .dataframe tbody tr th {\n",
       "        vertical-align: top;\n",
       "    }\n",
       "\n",
       "    .dataframe thead th {\n",
       "        text-align: right;\n",
       "    }\n",
       "</style>\n",
       "<table border=\"1\" class=\"dataframe\">\n",
       "  <thead>\n",
       "    <tr style=\"text-align: right;\">\n",
       "      <th></th>\n",
       "      <th>date</th>\n",
       "      <th>finbert</th>\n",
       "    </tr>\n",
       "  </thead>\n",
       "  <tbody>\n",
       "    <tr>\n",
       "      <th>0</th>\n",
       "      <td>2020-01-01</td>\n",
       "      <td>-0.029071</td>\n",
       "    </tr>\n",
       "    <tr>\n",
       "      <th>1</th>\n",
       "      <td>2020-01-02</td>\n",
       "      <td>0.097491</td>\n",
       "    </tr>\n",
       "    <tr>\n",
       "      <th>2</th>\n",
       "      <td>2020-01-03</td>\n",
       "      <td>0.042459</td>\n",
       "    </tr>\n",
       "    <tr>\n",
       "      <th>3</th>\n",
       "      <td>2020-01-04</td>\n",
       "      <td>-0.006438</td>\n",
       "    </tr>\n",
       "    <tr>\n",
       "      <th>4</th>\n",
       "      <td>2020-01-05</td>\n",
       "      <td>-0.014859</td>\n",
       "    </tr>\n",
       "    <tr>\n",
       "      <th>...</th>\n",
       "      <td>...</td>\n",
       "      <td>...</td>\n",
       "    </tr>\n",
       "    <tr>\n",
       "      <th>232</th>\n",
       "      <td>2020-08-26</td>\n",
       "      <td>0.116967</td>\n",
       "    </tr>\n",
       "    <tr>\n",
       "      <th>233</th>\n",
       "      <td>2020-08-27</td>\n",
       "      <td>0.112854</td>\n",
       "    </tr>\n",
       "    <tr>\n",
       "      <th>234</th>\n",
       "      <td>2020-08-28</td>\n",
       "      <td>0.152697</td>\n",
       "    </tr>\n",
       "    <tr>\n",
       "      <th>235</th>\n",
       "      <td>2020-08-29</td>\n",
       "      <td>0.108298</td>\n",
       "    </tr>\n",
       "    <tr>\n",
       "      <th>236</th>\n",
       "      <td>2020-08-30</td>\n",
       "      <td>0.132574</td>\n",
       "    </tr>\n",
       "  </tbody>\n",
       "</table>\n",
       "<p>237 rows × 2 columns</p>\n",
       "</div>"
      ],
      "text/plain": [
       "           date   finbert\n",
       "0    2020-01-01 -0.029071\n",
       "1    2020-01-02  0.097491\n",
       "2    2020-01-03  0.042459\n",
       "3    2020-01-04 -0.006438\n",
       "4    2020-01-05 -0.014859\n",
       "..          ...       ...\n",
       "232  2020-08-26  0.116967\n",
       "233  2020-08-27  0.112854\n",
       "234  2020-08-28  0.152697\n",
       "235  2020-08-29  0.108298\n",
       "236  2020-08-30  0.132574\n",
       "\n",
       "[237 rows x 2 columns]"
      ]
     },
     "execution_count": 105,
     "metadata": {},
     "output_type": "execute_result"
    }
   ],
   "source": [
    "tweets_finbert = pd.read_csv('sentiment_index/tweets_finbert_score.csv')\n",
    "tweets_finbert"
   ]
  },
  {
   "cell_type": "code",
   "execution_count": 106,
   "metadata": {},
   "outputs": [
    {
     "data": {
      "text/html": [
       "<div>\n",
       "<style scoped>\n",
       "    .dataframe tbody tr th:only-of-type {\n",
       "        vertical-align: middle;\n",
       "    }\n",
       "\n",
       "    .dataframe tbody tr th {\n",
       "        vertical-align: top;\n",
       "    }\n",
       "\n",
       "    .dataframe thead th {\n",
       "        text-align: right;\n",
       "    }\n",
       "</style>\n",
       "<table border=\"1\" class=\"dataframe\">\n",
       "  <thead>\n",
       "    <tr style=\"text-align: right;\">\n",
       "      <th></th>\n",
       "      <th>date</th>\n",
       "      <th>tweets finbert</th>\n",
       "      <th>news finbert</th>\n",
       "    </tr>\n",
       "  </thead>\n",
       "  <tbody>\n",
       "    <tr>\n",
       "      <th>0</th>\n",
       "      <td>2020-01-01</td>\n",
       "      <td>-0.029071</td>\n",
       "      <td>0.294918</td>\n",
       "    </tr>\n",
       "    <tr>\n",
       "      <th>1</th>\n",
       "      <td>2020-01-02</td>\n",
       "      <td>0.097491</td>\n",
       "      <td>0.231394</td>\n",
       "    </tr>\n",
       "    <tr>\n",
       "      <th>2</th>\n",
       "      <td>2020-01-03</td>\n",
       "      <td>0.042459</td>\n",
       "      <td>0.288113</td>\n",
       "    </tr>\n",
       "    <tr>\n",
       "      <th>3</th>\n",
       "      <td>2020-01-04</td>\n",
       "      <td>-0.006438</td>\n",
       "      <td>0.118191</td>\n",
       "    </tr>\n",
       "    <tr>\n",
       "      <th>4</th>\n",
       "      <td>2020-01-05</td>\n",
       "      <td>-0.014859</td>\n",
       "      <td>-0.012384</td>\n",
       "    </tr>\n",
       "    <tr>\n",
       "      <th>...</th>\n",
       "      <td>...</td>\n",
       "      <td>...</td>\n",
       "      <td>...</td>\n",
       "    </tr>\n",
       "    <tr>\n",
       "      <th>230</th>\n",
       "      <td>2020-08-24</td>\n",
       "      <td>0.132048</td>\n",
       "      <td>0.099178</td>\n",
       "    </tr>\n",
       "    <tr>\n",
       "      <th>231</th>\n",
       "      <td>2020-08-25</td>\n",
       "      <td>0.119997</td>\n",
       "      <td>0.104420</td>\n",
       "    </tr>\n",
       "    <tr>\n",
       "      <th>232</th>\n",
       "      <td>2020-08-26</td>\n",
       "      <td>0.116967</td>\n",
       "      <td>0.105442</td>\n",
       "    </tr>\n",
       "    <tr>\n",
       "      <th>233</th>\n",
       "      <td>2020-08-27</td>\n",
       "      <td>0.112854</td>\n",
       "      <td>0.139035</td>\n",
       "    </tr>\n",
       "    <tr>\n",
       "      <th>234</th>\n",
       "      <td>2020-08-28</td>\n",
       "      <td>0.152697</td>\n",
       "      <td>0.110140</td>\n",
       "    </tr>\n",
       "  </tbody>\n",
       "</table>\n",
       "<p>235 rows × 3 columns</p>\n",
       "</div>"
      ],
      "text/plain": [
       "           date  tweets finbert  news finbert\n",
       "0    2020-01-01       -0.029071      0.294918\n",
       "1    2020-01-02        0.097491      0.231394\n",
       "2    2020-01-03        0.042459      0.288113\n",
       "3    2020-01-04       -0.006438      0.118191\n",
       "4    2020-01-05       -0.014859     -0.012384\n",
       "..          ...             ...           ...\n",
       "230  2020-08-24        0.132048      0.099178\n",
       "231  2020-08-25        0.119997      0.104420\n",
       "232  2020-08-26        0.116967      0.105442\n",
       "233  2020-08-27        0.112854      0.139035\n",
       "234  2020-08-28        0.152697      0.110140\n",
       "\n",
       "[235 rows x 3 columns]"
      ]
     },
     "execution_count": 106,
     "metadata": {},
     "output_type": "execute_result"
    }
   ],
   "source": [
    "#merge on date\n",
    "finbert_nt=tweets_finbert.merge(news_finbert, on=['date'])\n",
    "finbert_nt.rename(columns = {'finbert':'tweets finbert', 'finbert_score': 'news finbert'}, inplace = True)\n",
    "finbert_nt"
   ]
  },
  {
   "cell_type": "code",
   "execution_count": 120,
   "metadata": {},
   "outputs": [
    {
     "data": {
      "text/html": [
       "<div>\n",
       "<style scoped>\n",
       "    .dataframe tbody tr th:only-of-type {\n",
       "        vertical-align: middle;\n",
       "    }\n",
       "\n",
       "    .dataframe tbody tr th {\n",
       "        vertical-align: top;\n",
       "    }\n",
       "\n",
       "    .dataframe thead th {\n",
       "        text-align: right;\n",
       "    }\n",
       "</style>\n",
       "<table border=\"1\" class=\"dataframe\">\n",
       "  <thead>\n",
       "    <tr style=\"text-align: right;\">\n",
       "      <th></th>\n",
       "      <th>date</th>\n",
       "      <th>tweets finbert</th>\n",
       "      <th>news finbert</th>\n",
       "      <th>tweet_labels</th>\n",
       "      <th>news_labels</th>\n",
       "    </tr>\n",
       "  </thead>\n",
       "  <tbody>\n",
       "    <tr>\n",
       "      <th>0</th>\n",
       "      <td>2020-01-01</td>\n",
       "      <td>-0.029071</td>\n",
       "      <td>0.294918</td>\n",
       "      <td>-1</td>\n",
       "      <td>1</td>\n",
       "    </tr>\n",
       "    <tr>\n",
       "      <th>1</th>\n",
       "      <td>2020-01-02</td>\n",
       "      <td>0.097491</td>\n",
       "      <td>0.231394</td>\n",
       "      <td>1</td>\n",
       "      <td>1</td>\n",
       "    </tr>\n",
       "    <tr>\n",
       "      <th>2</th>\n",
       "      <td>2020-01-03</td>\n",
       "      <td>0.042459</td>\n",
       "      <td>0.288113</td>\n",
       "      <td>1</td>\n",
       "      <td>1</td>\n",
       "    </tr>\n",
       "    <tr>\n",
       "      <th>3</th>\n",
       "      <td>2020-01-04</td>\n",
       "      <td>-0.006438</td>\n",
       "      <td>0.118191</td>\n",
       "      <td>-1</td>\n",
       "      <td>1</td>\n",
       "    </tr>\n",
       "    <tr>\n",
       "      <th>4</th>\n",
       "      <td>2020-01-05</td>\n",
       "      <td>-0.014859</td>\n",
       "      <td>-0.012384</td>\n",
       "      <td>-1</td>\n",
       "      <td>-1</td>\n",
       "    </tr>\n",
       "    <tr>\n",
       "      <th>...</th>\n",
       "      <td>...</td>\n",
       "      <td>...</td>\n",
       "      <td>...</td>\n",
       "      <td>...</td>\n",
       "      <td>...</td>\n",
       "    </tr>\n",
       "    <tr>\n",
       "      <th>230</th>\n",
       "      <td>2020-08-24</td>\n",
       "      <td>0.132048</td>\n",
       "      <td>0.099178</td>\n",
       "      <td>1</td>\n",
       "      <td>1</td>\n",
       "    </tr>\n",
       "    <tr>\n",
       "      <th>231</th>\n",
       "      <td>2020-08-25</td>\n",
       "      <td>0.119997</td>\n",
       "      <td>0.104420</td>\n",
       "      <td>1</td>\n",
       "      <td>1</td>\n",
       "    </tr>\n",
       "    <tr>\n",
       "      <th>232</th>\n",
       "      <td>2020-08-26</td>\n",
       "      <td>0.116967</td>\n",
       "      <td>0.105442</td>\n",
       "      <td>1</td>\n",
       "      <td>1</td>\n",
       "    </tr>\n",
       "    <tr>\n",
       "      <th>233</th>\n",
       "      <td>2020-08-27</td>\n",
       "      <td>0.112854</td>\n",
       "      <td>0.139035</td>\n",
       "      <td>1</td>\n",
       "      <td>1</td>\n",
       "    </tr>\n",
       "    <tr>\n",
       "      <th>234</th>\n",
       "      <td>2020-08-28</td>\n",
       "      <td>0.152697</td>\n",
       "      <td>0.110140</td>\n",
       "      <td>1</td>\n",
       "      <td>1</td>\n",
       "    </tr>\n",
       "  </tbody>\n",
       "</table>\n",
       "<p>235 rows × 5 columns</p>\n",
       "</div>"
      ],
      "text/plain": [
       "           date  tweets finbert  news finbert tweet_labels news_labels\n",
       "0    2020-01-01       -0.029071      0.294918           -1           1\n",
       "1    2020-01-02        0.097491      0.231394            1           1\n",
       "2    2020-01-03        0.042459      0.288113            1           1\n",
       "3    2020-01-04       -0.006438      0.118191           -1           1\n",
       "4    2020-01-05       -0.014859     -0.012384           -1          -1\n",
       "..          ...             ...           ...          ...         ...\n",
       "230  2020-08-24        0.132048      0.099178            1           1\n",
       "231  2020-08-25        0.119997      0.104420            1           1\n",
       "232  2020-08-26        0.116967      0.105442            1           1\n",
       "233  2020-08-27        0.112854      0.139035            1           1\n",
       "234  2020-08-28        0.152697      0.110140            1           1\n",
       "\n",
       "[235 rows x 5 columns]"
      ]
     },
     "execution_count": 120,
     "metadata": {},
     "output_type": "execute_result"
    }
   ],
   "source": [
    "#level of agreement: enconding labels considering threshold = 0\n",
    "\n",
    "finbert_nt['tweet_labels']=''\n",
    "finbert_nt['news_labels']=''\n",
    "\n",
    "finbert_nt.loc[finbert_nt[\"tweets finbert\"]>0, \"tweet_labels\"] = 1\n",
    "finbert_nt.loc[finbert_nt[\"tweets finbert\"]<0, \"tweet_labels\"] = -1\n",
    "finbert_nt.loc[finbert_nt[\"tweets finbert\"]==0, \"tweet_labels\"] = 0\n",
    "\n",
    "finbert_nt.loc[finbert_nt[\"news finbert\"]>0, \"news_labels\"] = 1\n",
    "finbert_nt.loc[finbert_nt[\"news finbert\"]<0, \"news_labels\"] = -1\n",
    "finbert_nt.loc[finbert_nt[\"news finbert\"]==0, \"news_labels\"] = 0\n",
    "\n",
    "finbert_nt"
   ]
  },
  {
   "cell_type": "code",
   "execution_count": 121,
   "metadata": {},
   "outputs": [],
   "source": [
    "finbert_nt['comparison'] = finbert_nt['tweet_labels'] == finbert_nt['news_labels']"
   ]
  },
  {
   "cell_type": "code",
   "execution_count": 122,
   "metadata": {},
   "outputs": [
    {
     "data": {
      "text/plain": [
       "True     0.655319\n",
       "False    0.344681\n",
       "Name: comparison, dtype: float64"
      ]
     },
     "execution_count": 122,
     "metadata": {},
     "output_type": "execute_result"
    }
   ],
   "source": [
    "finbert_nt['comparison'].value_counts(normalize=True)"
   ]
  },
  {
   "cell_type": "code",
   "execution_count": 123,
   "metadata": {},
   "outputs": [
    {
     "data": {
      "text/plain": [
       "True     154\n",
       "False     81\n",
       "Name: comparison, dtype: int64"
      ]
     },
     "execution_count": 123,
     "metadata": {},
     "output_type": "execute_result"
    }
   ],
   "source": [
    "finbert_nt['comparison'].value_counts()"
   ]
  },
  {
   "cell_type": "code",
   "execution_count": 107,
   "metadata": {},
   "outputs": [
    {
     "data": {
      "text/html": [
       "<div>\n",
       "<style scoped>\n",
       "    .dataframe tbody tr th:only-of-type {\n",
       "        vertical-align: middle;\n",
       "    }\n",
       "\n",
       "    .dataframe tbody tr th {\n",
       "        vertical-align: top;\n",
       "    }\n",
       "\n",
       "    .dataframe thead th {\n",
       "        text-align: right;\n",
       "    }\n",
       "</style>\n",
       "<table border=\"1\" class=\"dataframe\">\n",
       "  <thead>\n",
       "    <tr style=\"text-align: right;\">\n",
       "      <th></th>\n",
       "      <th>tweets finbert</th>\n",
       "      <th>news finbert</th>\n",
       "    </tr>\n",
       "  </thead>\n",
       "  <tbody>\n",
       "    <tr>\n",
       "      <th>tweets finbert</th>\n",
       "      <td>1.000000</td>\n",
       "      <td>0.233807</td>\n",
       "    </tr>\n",
       "    <tr>\n",
       "      <th>news finbert</th>\n",
       "      <td>0.233807</td>\n",
       "      <td>1.000000</td>\n",
       "    </tr>\n",
       "  </tbody>\n",
       "</table>\n",
       "</div>"
      ],
      "text/plain": [
       "                tweets finbert  news finbert\n",
       "tweets finbert        1.000000      0.233807\n",
       "news finbert          0.233807      1.000000"
      ]
     },
     "execution_count": 107,
     "metadata": {},
     "output_type": "execute_result"
    }
   ],
   "source": [
    "finbert_nt.corr() "
   ]
  },
  {
   "cell_type": "code",
   "execution_count": 108,
   "metadata": {},
   "outputs": [
    {
     "data": {
      "text/plain": [
       "(0.2338073468571945, 0.000299970569599506)"
      ]
     },
     "execution_count": 108,
     "metadata": {},
     "output_type": "execute_result"
    }
   ],
   "source": [
    "from scipy.stats import pearsonr\n",
    "pearsonr(finbert_nt['tweets finbert'],finbert_nt['news finbert'])"
   ]
  },
  {
   "cell_type": "markdown",
   "metadata": {},
   "source": [
    "RESULT: POSITIVE CORRELATION"
   ]
  },
  {
   "cell_type": "code",
   "execution_count": 109,
   "metadata": {},
   "outputs": [
    {
     "data": {
      "text/plain": [
       "SpearmanrResult(correlation=0.2247261192465221, pvalue=0.0005182909208203903)"
      ]
     },
     "execution_count": 109,
     "metadata": {},
     "output_type": "execute_result"
    }
   ],
   "source": [
    "from scipy.stats import spearmanr\n",
    "spearmanr(finbert_nt['tweets finbert'],finbert_nt['news finbert'])"
   ]
  },
  {
   "cell_type": "code",
   "execution_count": 110,
   "metadata": {},
   "outputs": [
    {
     "data": {
      "text/plain": [
       "KendalltauResult(correlation=0.14861154051448988, pvalue=0.0006940371392432362)"
      ]
     },
     "execution_count": 110,
     "metadata": {},
     "output_type": "execute_result"
    }
   ],
   "source": [
    "import scipy.stats as stats\n",
    "stats.kendalltau(finbert_nt['tweets finbert'],finbert_nt['news finbert'])"
   ]
  },
  {
   "cell_type": "code",
   "execution_count": 111,
   "metadata": {},
   "outputs": [
    {
     "data": {
      "text/plain": [
       "array([ 2.33807347e-01,  1.50672844e-01,  8.15605575e-02, -9.91736753e-02,\n",
       "        3.70820340e-02,  2.35785489e-02,  4.82846484e-02,  1.15115903e-01,\n",
       "        1.03252997e-01,  3.58125609e-02, -2.91375137e-03, -1.51276481e-02,\n",
       "       -2.72347741e-03, -3.89005081e-02,  6.16399313e-02,  1.20794548e-02,\n",
       "       -1.38187421e-02, -7.66788582e-02, -1.33809396e-01, -1.24178269e-01,\n",
       "       -3.83780912e-02,  1.74912964e-02, -7.14328309e-02, -1.62215239e-01,\n",
       "       -1.72547652e-01, -1.37768680e-01, -9.98838033e-02, -4.89053684e-02,\n",
       "       -6.44710261e-02, -9.09186371e-02, -1.39031832e-01, -8.68891550e-02,\n",
       "       -1.21765291e-01, -1.03497931e-01, -2.90323842e-02, -6.17801580e-02,\n",
       "       -1.03503228e-01, -1.32998264e-01, -1.39960368e-01, -1.23057401e-01,\n",
       "       -1.24470624e-01, -1.19604405e-01, -1.64116732e-01, -1.45285838e-01,\n",
       "       -1.70508808e-01, -1.78118166e-01, -2.13419153e-01, -1.93130123e-01,\n",
       "       -1.96050165e-01, -2.51076331e-01, -2.73010357e-01, -3.12935885e-01,\n",
       "       -2.77356757e-01, -1.99782128e-01, -1.53263998e-01, -2.03531450e-01,\n",
       "       -2.24677056e-01, -2.71986699e-01, -2.50247522e-01, -2.04817933e-01,\n",
       "       -1.99355487e-01, -2.11448270e-01, -2.23102371e-01, -2.60767819e-01,\n",
       "       -2.26494163e-01, -1.69997549e-01, -9.81891020e-02, -1.57819391e-01,\n",
       "       -1.19367032e-01, -1.88517434e-01, -2.07298727e-01, -2.10651400e-01,\n",
       "       -1.90816262e-01, -1.59060588e-01, -1.28820665e-01, -8.28152812e-02,\n",
       "       -7.10930826e-02, -1.10364792e-01, -1.24550473e-01, -6.91522341e-02,\n",
       "       -5.69637549e-02, -1.80755643e-02, -2.54450716e-02, -5.90644963e-02,\n",
       "       -7.46835548e-02, -3.25539144e-02, -8.63295356e-03,  2.84859742e-02,\n",
       "        4.04944511e-02, -1.22882569e-02, -5.97936244e-02, -6.44629593e-02,\n",
       "       -5.01424316e-02, -8.59323073e-03,  2.64178123e-02, -1.21981348e-04,\n",
       "       -7.97931294e-04,  5.27823910e-03, -1.77167785e-02, -1.57528753e-02,\n",
       "       -1.10181945e-02,  6.41479976e-04,  2.37402836e-02, -3.13285666e-02,\n",
       "       -5.57282444e-02, -6.10445845e-02, -4.42466352e-02, -3.06234298e-02,\n",
       "        1.95149013e-02,  3.90721819e-03, -3.59106294e-02, -5.39933558e-02,\n",
       "       -4.24166768e-02, -1.94055481e-02,  6.88383645e-03,  2.38820055e-02,\n",
       "       -1.40068177e-03, -7.59030435e-02, -6.57163331e-02, -3.33457811e-02,\n",
       "       -1.86433888e-02, -3.53700786e-04,  3.59514266e-02, -2.17024217e-02,\n",
       "       -1.05493329e-01, -7.13200743e-02, -3.10434920e-02,  3.12991821e-02,\n",
       "        5.56598430e-02,  6.50860776e-02, -6.31306285e-04, -8.61928924e-02,\n",
       "       -7.85657767e-02, -1.30229454e-02,  4.48834836e-02,  6.57293735e-02,\n",
       "        4.91121158e-02, -5.06343089e-03, -7.80532141e-02, -4.68954259e-02,\n",
       "       -3.35084909e-04,  2.53980284e-02,  3.86215206e-02,  5.50767573e-02,\n",
       "       -1.89535867e-02, -5.11859922e-02, -3.26825624e-02,  4.63241503e-03,\n",
       "        2.15713173e-02,  5.73522179e-02,  2.92596630e-02, -3.25139275e-02,\n",
       "       -6.59580284e-02, -6.39266088e-02, -2.67863629e-02, -2.55815828e-03,\n",
       "        4.10327016e-02,  1.91502036e-03, -2.75562223e-02, -3.99750026e-02,\n",
       "       -2.80521747e-02,  7.95129283e-03,  2.60317162e-02,  5.88635464e-02,\n",
       "        4.19404461e-02,  2.08712133e-03,  1.90163122e-02,  2.52253052e-02,\n",
       "        4.03963785e-02,  5.27643838e-02,  8.94171030e-02,  5.84036796e-02,\n",
       "        6.74243742e-02,  7.64133119e-02,  8.12729683e-02,  7.71816849e-02,\n",
       "        8.23008211e-02,  7.42684391e-02,  7.11363812e-02,  7.21830227e-02,\n",
       "        7.21362785e-02,  7.99360358e-02,  1.08363457e-01,  1.11025919e-01,\n",
       "        9.41448260e-02,  5.29531250e-02,  1.73573400e-02,  3.68847734e-02,\n",
       "        7.49206459e-02,  8.40519967e-02,  8.72622164e-02,  8.23855171e-02,\n",
       "        3.28029406e-02,  2.05888692e-02,  5.86818093e-02,  8.57449064e-02,\n",
       "        8.59468533e-02,  8.73721529e-02,  5.98682765e-02,  3.10969927e-02,\n",
       "        3.41306453e-02,  4.97600600e-02,  5.20780949e-02,  7.15647778e-02,\n",
       "        9.33505619e-02,  8.16443320e-02,  6.06594867e-02,  6.38034223e-02,\n",
       "        6.84614172e-02,  8.21573948e-02,  8.92627385e-02,  9.25048444e-02,\n",
       "        7.95988507e-02,  5.74846162e-02,  5.25871922e-02,  7.92987334e-02,\n",
       "        9.74519836e-02,  8.35902965e-02,  8.55594900e-02,  6.41556579e-02,\n",
       "        5.10005189e-02,  5.85324409e-02,  6.96275018e-02,  6.00472977e-02,\n",
       "        6.17218927e-02,  6.49491210e-02,  4.84108387e-02,  3.85081915e-02,\n",
       "        4.09752235e-02,  3.13475860e-02,  2.76965294e-02,  2.99984551e-02,\n",
       "        2.98701049e-02,  1.94613363e-02,  1.39391759e-02])"
      ]
     },
     "execution_count": 111,
     "metadata": {},
     "output_type": "execute_result"
    }
   ],
   "source": [
    "import statsmodels.api as sm\n",
    "#calculate cross correlation\n",
    "o=sm.tsa.stattools.ccf(finbert_nt['tweets finbert'],finbert_nt['news finbert'], adjusted=False)\n",
    "o"
   ]
  },
  {
   "cell_type": "code",
   "execution_count": 131,
   "metadata": {
    "scrolled": true
   },
   "outputs": [
    {
     "data": {
      "image/png": "[encoded data removed]",
      "text/plain": [
       "<Figure size 540x252 with 1 Axes>"
      ]
     },
     "metadata": {
      "needs_background": "light"
     },
     "output_type": "display_data"
    }
   ],
   "source": [
    "import matplotlib.pylab as plt\n",
    "import numpy as np\n",
    "plt.stem(o)\n",
    "plt.xlabel('Lag')\n",
    "plt.ylabel('CCF')\n",
    "plt.title(\"Cross Correlation Function (CCF) between financial news and tweets over the first eight months of 2020 [FINBERT] \", pad=20)\n",
    "plt.axis([None, None, -0.4, 0.3])\n",
    "plt.xticks(np.arange(0, 250, step=20)) \n",
    "plt.savefig('images/corr_f_n_finbert.png',  bbox_inches='tight')"
   ]
  },
  {
   "cell_type": "code",
   "execution_count": 113,
   "metadata": {},
   "outputs": [],
   "source": [
    "from pingouin import corr"
   ]
  },
  {
   "cell_type": "code",
   "execution_count": 114,
   "metadata": {},
   "outputs": [
    {
     "data": {
      "text/html": [
       "<div>\n",
       "<style scoped>\n",
       "    .dataframe tbody tr th:only-of-type {\n",
       "        vertical-align: middle;\n",
       "    }\n",
       "\n",
       "    .dataframe tbody tr th {\n",
       "        vertical-align: top;\n",
       "    }\n",
       "\n",
       "    .dataframe thead th {\n",
       "        text-align: right;\n",
       "    }\n",
       "</style>\n",
       "<table border=\"1\" class=\"dataframe\">\n",
       "  <thead>\n",
       "    <tr style=\"text-align: right;\">\n",
       "      <th></th>\n",
       "      <th>n</th>\n",
       "      <th>r</th>\n",
       "      <th>CI95%</th>\n",
       "      <th>p-val</th>\n",
       "      <th>BF10</th>\n",
       "      <th>power</th>\n",
       "    </tr>\n",
       "  </thead>\n",
       "  <tbody>\n",
       "    <tr>\n",
       "      <th>pearson</th>\n",
       "      <td>235</td>\n",
       "      <td>0.233807</td>\n",
       "      <td>[0.11, 0.35]</td>\n",
       "      <td>0.0003</td>\n",
       "      <td>54.002</td>\n",
       "      <td>0.953074</td>\n",
       "    </tr>\n",
       "  </tbody>\n",
       "</table>\n",
       "</div>"
      ],
      "text/plain": [
       "           n         r         CI95%   p-val    BF10     power\n",
       "pearson  235  0.233807  [0.11, 0.35]  0.0003  54.002  0.953074"
      ]
     },
     "execution_count": 114,
     "metadata": {},
     "output_type": "execute_result"
    }
   ],
   "source": [
    "corr(finbert_nt['tweets finbert'],finbert_nt['news finbert'], method= 'pearson')"
   ]
  },
  {
   "cell_type": "code",
   "execution_count": 115,
   "metadata": {},
   "outputs": [
    {
     "data": {
      "text/html": [
       "<div>\n",
       "<style scoped>\n",
       "    .dataframe tbody tr th:only-of-type {\n",
       "        vertical-align: middle;\n",
       "    }\n",
       "\n",
       "    .dataframe tbody tr th {\n",
       "        vertical-align: top;\n",
       "    }\n",
       "\n",
       "    .dataframe thead th {\n",
       "        text-align: right;\n",
       "    }\n",
       "</style>\n",
       "<table border=\"1\" class=\"dataframe\">\n",
       "  <thead>\n",
       "    <tr style=\"text-align: right;\">\n",
       "      <th></th>\n",
       "      <th>n</th>\n",
       "      <th>r</th>\n",
       "      <th>CI95%</th>\n",
       "      <th>p-val</th>\n",
       "      <th>power</th>\n",
       "    </tr>\n",
       "  </thead>\n",
       "  <tbody>\n",
       "    <tr>\n",
       "      <th>spearman</th>\n",
       "      <td>235</td>\n",
       "      <td>0.224726</td>\n",
       "      <td>[0.1, 0.34]</td>\n",
       "      <td>0.000518</td>\n",
       "      <td>0.936883</td>\n",
       "    </tr>\n",
       "  </tbody>\n",
       "</table>\n",
       "</div>"
      ],
      "text/plain": [
       "            n         r        CI95%     p-val     power\n",
       "spearman  235  0.224726  [0.1, 0.34]  0.000518  0.936883"
      ]
     },
     "execution_count": 115,
     "metadata": {},
     "output_type": "execute_result"
    }
   ],
   "source": [
    "corr(finbert_nt['tweets finbert'],finbert_nt['news finbert'], method= 'spearman')"
   ]
  },
  {
   "cell_type": "code",
   "execution_count": 116,
   "metadata": {},
   "outputs": [
    {
     "data": {
      "text/html": [
       "<div>\n",
       "<style scoped>\n",
       "    .dataframe tbody tr th:only-of-type {\n",
       "        vertical-align: middle;\n",
       "    }\n",
       "\n",
       "    .dataframe tbody tr th {\n",
       "        vertical-align: top;\n",
       "    }\n",
       "\n",
       "    .dataframe thead th {\n",
       "        text-align: right;\n",
       "    }\n",
       "</style>\n",
       "<table border=\"1\" class=\"dataframe\">\n",
       "  <thead>\n",
       "    <tr style=\"text-align: right;\">\n",
       "      <th></th>\n",
       "      <th>n</th>\n",
       "      <th>r</th>\n",
       "      <th>CI95%</th>\n",
       "      <th>p-val</th>\n",
       "      <th>power</th>\n",
       "    </tr>\n",
       "  </thead>\n",
       "  <tbody>\n",
       "    <tr>\n",
       "      <th>kendall</th>\n",
       "      <td>235</td>\n",
       "      <td>0.148612</td>\n",
       "      <td>[0.02, 0.27]</td>\n",
       "      <td>0.000694</td>\n",
       "      <td>0.62733</td>\n",
       "    </tr>\n",
       "  </tbody>\n",
       "</table>\n",
       "</div>"
      ],
      "text/plain": [
       "           n         r         CI95%     p-val    power\n",
       "kendall  235  0.148612  [0.02, 0.27]  0.000694  0.62733"
      ]
     },
     "execution_count": 116,
     "metadata": {},
     "output_type": "execute_result"
    }
   ],
   "source": [
    "corr(finbert_nt['tweets finbert'],finbert_nt['news finbert'], method= 'kendall')"
   ]
  },
  {
   "cell_type": "code",
   "execution_count": null,
   "metadata": {},
   "outputs": [],
   "source": []
  }
 ],
 "metadata": {
  "kernelspec": {
   "display_name": "Python 3",
   "language": "python",
   "name": "python3"
  },
  "language_info": {
   "codemirror_mode": {
    "name": "ipython",
    "version": 3
   },
   "file_extension": ".py",
   "mimetype": "text/x-python",
   "name": "python",
   "nbconvert_exporter": "python",
   "pygments_lexer": "ipython3",
   "version": "3.7.4"
  }
 },
 "nbformat": 4,
 "nbformat_minor": 4
}
