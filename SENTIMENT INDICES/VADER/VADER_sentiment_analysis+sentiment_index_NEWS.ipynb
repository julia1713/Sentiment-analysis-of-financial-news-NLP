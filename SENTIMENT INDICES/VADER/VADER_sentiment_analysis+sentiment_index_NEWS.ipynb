{
 "cells": [
  {
   "cell_type": "markdown",
   "metadata": {},
   "source": [
    "### APPLICATION OF VADER SENTIMENT ANALYZER  TO NEWS DATASET"
   ]
  },
  {
   "cell_type": "code",
   "execution_count": 1,
   "metadata": {},
   "outputs": [
    {
     "name": "stderr",
     "output_type": "stream",
     "text": [
      "[nltk_data] Downloading package vader_lexicon to\n",
      "[nltk_data]     C:\\Users\\Giulia\\AppData\\Roaming\\nltk_data...\n",
      "[nltk_data]   Package vader_lexicon is already up-to-date!\n"
     ]
    }
   ],
   "source": [
    "import pandas as pd\n",
    "import matplotlib.pyplot as plt #plot the sentiment on a chart\n",
    "import nltk \n",
    "nltk.download('vader_lexicon')\n",
    "from nltk.sentiment.vader import SentimentIntensityAnalyzer #perform sentiment analysis \n",
    "import matplotlib.pyplot as plt"
   ]
  },
  {
   "cell_type": "code",
   "execution_count": 2,
   "metadata": {},
   "outputs": [],
   "source": [
    "data=pd.read_csv('TUTTE_NEWS_clean.csv', sep=\";\", index_col=False)"
   ]
  },
  {
   "cell_type": "code",
   "execution_count": 3,
   "metadata": {
    "scrolled": true
   },
   "outputs": [
    {
     "data": {
      "text/html": [
       "<div>\n",
       "<style scoped>\n",
       "    .dataframe tbody tr th:only-of-type {\n",
       "        vertical-align: middle;\n",
       "    }\n",
       "\n",
       "    .dataframe tbody tr th {\n",
       "        vertical-align: top;\n",
       "    }\n",
       "\n",
       "    .dataframe thead th {\n",
       "        text-align: right;\n",
       "    }\n",
       "</style>\n",
       "<table border=\"1\" class=\"dataframe\">\n",
       "  <thead>\n",
       "    <tr style=\"text-align: right;\">\n",
       "      <th></th>\n",
       "      <th>date</th>\n",
       "      <th>headline</th>\n",
       "    </tr>\n",
       "  </thead>\n",
       "  <tbody>\n",
       "    <tr>\n",
       "      <th>0</th>\n",
       "      <td>2020-01-01</td>\n",
       "      <td>2020 Predictions: No Rate Cuts, No Recession, Sell Apple, Buy Energy</td>\n",
       "    </tr>\n",
       "    <tr>\n",
       "      <th>1</th>\n",
       "      <td>2020-01-01</td>\n",
       "      <td>3 Reasons Why Growth Investors Shouldn't Overlook Fair Isaac (FICO)</td>\n",
       "    </tr>\n",
       "    <tr>\n",
       "      <th>2</th>\n",
       "      <td>2020-01-01</td>\n",
       "      <td>3 Tech Giants That Could Benefit From The 5G Revolution In 2020</td>\n",
       "    </tr>\n",
       "    <tr>\n",
       "      <th>3</th>\n",
       "      <td>2020-01-01</td>\n",
       "      <td>ACA or CBPX: Which Is the Better Value Stock Right Now?</td>\n",
       "    </tr>\n",
       "    <tr>\n",
       "      <th>4</th>\n",
       "      <td>2020-01-01</td>\n",
       "      <td>All You Need to Know About Alexion (ALXN) Rating Upgrade to Strong Buy</td>\n",
       "    </tr>\n",
       "    <tr>\n",
       "      <th>...</th>\n",
       "      <td>...</td>\n",
       "      <td>...</td>\n",
       "    </tr>\n",
       "    <tr>\n",
       "      <th>74993</th>\n",
       "      <td>2020-08-28</td>\n",
       "      <td>Weyland Tech assumes the name of its subsidiary, Logiq, emerges strong for its customer data</td>\n",
       "    </tr>\n",
       "    <tr>\n",
       "      <th>74994</th>\n",
       "      <td>2020-08-28</td>\n",
       "      <td>Whipsaw action in gold resolves to the upside, with $2K again in sight</td>\n",
       "    </tr>\n",
       "    <tr>\n",
       "      <th>74995</th>\n",
       "      <td>2020-08-28</td>\n",
       "      <td>White House interviewing replacements for FTC head - Politico</td>\n",
       "    </tr>\n",
       "    <tr>\n",
       "      <th>74996</th>\n",
       "      <td>2020-08-28</td>\n",
       "      <td>Workhorse drops on reported HorseFly drone flaws - Barron's</td>\n",
       "    </tr>\n",
       "    <tr>\n",
       "      <th>74997</th>\n",
       "      <td>2020-08-28</td>\n",
       "      <td>Yiren Digital -6.5% on depressing Q2 numbers</td>\n",
       "    </tr>\n",
       "  </tbody>\n",
       "</table>\n",
       "<p>74998 rows × 2 columns</p>\n",
       "</div>"
      ],
      "text/plain": [
       "             date  \\\n",
       "0      2020-01-01   \n",
       "1      2020-01-01   \n",
       "2      2020-01-01   \n",
       "3      2020-01-01   \n",
       "4      2020-01-01   \n",
       "...           ...   \n",
       "74993  2020-08-28   \n",
       "74994  2020-08-28   \n",
       "74995  2020-08-28   \n",
       "74996  2020-08-28   \n",
       "74997  2020-08-28   \n",
       "\n",
       "                                                                                             headline  \n",
       "0                                2020 Predictions: No Rate Cuts, No Recession, Sell Apple, Buy Energy  \n",
       "1                                 3 Reasons Why Growth Investors Shouldn't Overlook Fair Isaac (FICO)  \n",
       "2                                     3 Tech Giants That Could Benefit From The 5G Revolution In 2020  \n",
       "3                                             ACA or CBPX: Which Is the Better Value Stock Right Now?  \n",
       "4                              All You Need to Know About Alexion (ALXN) Rating Upgrade to Strong Buy  \n",
       "...                                                                                               ...  \n",
       "74993   Weyland Tech assumes the name of its subsidiary, Logiq, emerges strong for its customer data   \n",
       "74994                         Whipsaw action in gold resolves to the upside, with $2K again in sight   \n",
       "74995                                  White House interviewing replacements for FTC head - Politico   \n",
       "74996                                    Workhorse drops on reported HorseFly drone flaws - Barron's   \n",
       "74997                                                   Yiren Digital -6.5% on depressing Q2 numbers   \n",
       "\n",
       "[74998 rows x 2 columns]"
      ]
     },
     "execution_count": 3,
     "metadata": {},
     "output_type": "execute_result"
    }
   ],
   "source": [
    "pd.set_option('display.max_colwidth',None)\n",
    "data"
   ]
  },
  {
   "cell_type": "code",
   "execution_count": 4,
   "metadata": {
    "scrolled": true
   },
   "outputs": [
    {
     "data": {
      "text/html": [
       "<div>\n",
       "<style scoped>\n",
       "    .dataframe tbody tr th:only-of-type {\n",
       "        vertical-align: middle;\n",
       "    }\n",
       "\n",
       "    .dataframe tbody tr th {\n",
       "        vertical-align: top;\n",
       "    }\n",
       "\n",
       "    .dataframe thead th {\n",
       "        text-align: right;\n",
       "    }\n",
       "</style>\n",
       "<table border=\"1\" class=\"dataframe\">\n",
       "  <thead>\n",
       "    <tr style=\"text-align: right;\">\n",
       "      <th></th>\n",
       "      <th>date</th>\n",
       "      <th>headline</th>\n",
       "      <th>compound</th>\n",
       "    </tr>\n",
       "  </thead>\n",
       "  <tbody>\n",
       "    <tr>\n",
       "      <th>0</th>\n",
       "      <td>2020-01-01</td>\n",
       "      <td>2020 Predictions: No Rate Cuts, No Recession, Sell Apple, Buy Energy</td>\n",
       "      <td>-0.7430</td>\n",
       "    </tr>\n",
       "    <tr>\n",
       "      <th>1</th>\n",
       "      <td>2020-01-01</td>\n",
       "      <td>3 Reasons Why Growth Investors Shouldn't Overlook Fair Isaac (FICO)</td>\n",
       "      <td>0.1625</td>\n",
       "    </tr>\n",
       "    <tr>\n",
       "      <th>2</th>\n",
       "      <td>2020-01-01</td>\n",
       "      <td>3 Tech Giants That Could Benefit From The 5G Revolution In 2020</td>\n",
       "      <td>0.4588</td>\n",
       "    </tr>\n",
       "    <tr>\n",
       "      <th>3</th>\n",
       "      <td>2020-01-01</td>\n",
       "      <td>ACA or CBPX: Which Is the Better Value Stock Right Now?</td>\n",
       "      <td>0.6486</td>\n",
       "    </tr>\n",
       "    <tr>\n",
       "      <th>4</th>\n",
       "      <td>2020-01-01</td>\n",
       "      <td>All You Need to Know About Alexion (ALXN) Rating Upgrade to Strong Buy</td>\n",
       "      <td>0.5106</td>\n",
       "    </tr>\n",
       "    <tr>\n",
       "      <th>...</th>\n",
       "      <td>...</td>\n",
       "      <td>...</td>\n",
       "      <td>...</td>\n",
       "    </tr>\n",
       "    <tr>\n",
       "      <th>74993</th>\n",
       "      <td>2020-08-28</td>\n",
       "      <td>Weyland Tech assumes the name of its subsidiary, Logiq, emerges strong for its customer data</td>\n",
       "      <td>0.5106</td>\n",
       "    </tr>\n",
       "    <tr>\n",
       "      <th>74994</th>\n",
       "      <td>2020-08-28</td>\n",
       "      <td>Whipsaw action in gold resolves to the upside, with $2K again in sight</td>\n",
       "      <td>0.1779</td>\n",
       "    </tr>\n",
       "    <tr>\n",
       "      <th>74995</th>\n",
       "      <td>2020-08-28</td>\n",
       "      <td>White House interviewing replacements for FTC head - Politico</td>\n",
       "      <td>0.0000</td>\n",
       "    </tr>\n",
       "    <tr>\n",
       "      <th>74996</th>\n",
       "      <td>2020-08-28</td>\n",
       "      <td>Workhorse drops on reported HorseFly drone flaws - Barron's</td>\n",
       "      <td>0.0000</td>\n",
       "    </tr>\n",
       "    <tr>\n",
       "      <th>74997</th>\n",
       "      <td>2020-08-28</td>\n",
       "      <td>Yiren Digital -6.5% on depressing Q2 numbers</td>\n",
       "      <td>-0.3818</td>\n",
       "    </tr>\n",
       "  </tbody>\n",
       "</table>\n",
       "<p>74998 rows × 3 columns</p>\n",
       "</div>"
      ],
      "text/plain": [
       "             date  \\\n",
       "0      2020-01-01   \n",
       "1      2020-01-01   \n",
       "2      2020-01-01   \n",
       "3      2020-01-01   \n",
       "4      2020-01-01   \n",
       "...           ...   \n",
       "74993  2020-08-28   \n",
       "74994  2020-08-28   \n",
       "74995  2020-08-28   \n",
       "74996  2020-08-28   \n",
       "74997  2020-08-28   \n",
       "\n",
       "                                                                                             headline  \\\n",
       "0                                2020 Predictions: No Rate Cuts, No Recession, Sell Apple, Buy Energy   \n",
       "1                                 3 Reasons Why Growth Investors Shouldn't Overlook Fair Isaac (FICO)   \n",
       "2                                     3 Tech Giants That Could Benefit From The 5G Revolution In 2020   \n",
       "3                                             ACA or CBPX: Which Is the Better Value Stock Right Now?   \n",
       "4                              All You Need to Know About Alexion (ALXN) Rating Upgrade to Strong Buy   \n",
       "...                                                                                               ...   \n",
       "74993   Weyland Tech assumes the name of its subsidiary, Logiq, emerges strong for its customer data    \n",
       "74994                         Whipsaw action in gold resolves to the upside, with $2K again in sight    \n",
       "74995                                  White House interviewing replacements for FTC head - Politico    \n",
       "74996                                    Workhorse drops on reported HorseFly drone flaws - Barron's    \n",
       "74997                                                   Yiren Digital -6.5% on depressing Q2 numbers    \n",
       "\n",
       "       compound  \n",
       "0       -0.7430  \n",
       "1        0.1625  \n",
       "2        0.4588  \n",
       "3        0.6486  \n",
       "4        0.5106  \n",
       "...         ...  \n",
       "74993    0.5106  \n",
       "74994    0.1779  \n",
       "74995    0.0000  \n",
       "74996    0.0000  \n",
       "74997   -0.3818  \n",
       "\n",
       "[74998 rows x 3 columns]"
      ]
     },
     "execution_count": 4,
     "metadata": {},
     "output_type": "execute_result"
    }
   ],
   "source": [
    "vader = SentimentIntensityAnalyzer() \n",
    "\n",
    "#compound: The normalized compound score which calculates the sum of all lexicon ratings and takes values from -1 to 1\n",
    "\n",
    "# Iterate through the headlines and get the polarity scores using vader\n",
    "f = lambda title: vader.polarity_scores(title)['compound']\n",
    "data['compound'] = data['headline'].apply(f)\n",
    "\n",
    "data"
   ]
  },
  {
   "cell_type": "code",
   "execution_count": 5,
   "metadata": {},
   "outputs": [
    {
     "data": {
      "text/html": [
       "<div>\n",
       "<style scoped>\n",
       "    .dataframe tbody tr th:only-of-type {\n",
       "        vertical-align: middle;\n",
       "    }\n",
       "\n",
       "    .dataframe tbody tr th {\n",
       "        vertical-align: top;\n",
       "    }\n",
       "\n",
       "    .dataframe thead th {\n",
       "        text-align: right;\n",
       "    }\n",
       "</style>\n",
       "<table border=\"1\" class=\"dataframe\">\n",
       "  <thead>\n",
       "    <tr style=\"text-align: right;\">\n",
       "      <th></th>\n",
       "      <th>date</th>\n",
       "      <th>headline</th>\n",
       "      <th>compound</th>\n",
       "    </tr>\n",
       "  </thead>\n",
       "  <tbody>\n",
       "    <tr>\n",
       "      <th>0</th>\n",
       "      <td>2020-01-01</td>\n",
       "      <td>2020 Predictions: No Rate Cuts, No Recession, Sell Apple, Buy Energy</td>\n",
       "      <td>-0.7430</td>\n",
       "    </tr>\n",
       "    <tr>\n",
       "      <th>1</th>\n",
       "      <td>2020-01-01</td>\n",
       "      <td>3 Reasons Why Growth Investors Shouldn't Overlook Fair Isaac (FICO)</td>\n",
       "      <td>0.1625</td>\n",
       "    </tr>\n",
       "    <tr>\n",
       "      <th>2</th>\n",
       "      <td>2020-01-01</td>\n",
       "      <td>3 Tech Giants That Could Benefit From The 5G Revolution In 2020</td>\n",
       "      <td>0.4588</td>\n",
       "    </tr>\n",
       "    <tr>\n",
       "      <th>3</th>\n",
       "      <td>2020-01-01</td>\n",
       "      <td>ACA or CBPX: Which Is the Better Value Stock Right Now?</td>\n",
       "      <td>0.6486</td>\n",
       "    </tr>\n",
       "    <tr>\n",
       "      <th>4</th>\n",
       "      <td>2020-01-01</td>\n",
       "      <td>All You Need to Know About Alexion (ALXN) Rating Upgrade to Strong Buy</td>\n",
       "      <td>0.5106</td>\n",
       "    </tr>\n",
       "    <tr>\n",
       "      <th>...</th>\n",
       "      <td>...</td>\n",
       "      <td>...</td>\n",
       "      <td>...</td>\n",
       "    </tr>\n",
       "    <tr>\n",
       "      <th>74993</th>\n",
       "      <td>2020-08-28</td>\n",
       "      <td>Weyland Tech assumes the name of its subsidiary, Logiq, emerges strong for its customer data</td>\n",
       "      <td>0.5106</td>\n",
       "    </tr>\n",
       "    <tr>\n",
       "      <th>74994</th>\n",
       "      <td>2020-08-28</td>\n",
       "      <td>Whipsaw action in gold resolves to the upside, with $2K again in sight</td>\n",
       "      <td>0.1779</td>\n",
       "    </tr>\n",
       "    <tr>\n",
       "      <th>74995</th>\n",
       "      <td>2020-08-28</td>\n",
       "      <td>White House interviewing replacements for FTC head - Politico</td>\n",
       "      <td>0.0000</td>\n",
       "    </tr>\n",
       "    <tr>\n",
       "      <th>74996</th>\n",
       "      <td>2020-08-28</td>\n",
       "      <td>Workhorse drops on reported HorseFly drone flaws - Barron's</td>\n",
       "      <td>0.0000</td>\n",
       "    </tr>\n",
       "    <tr>\n",
       "      <th>74997</th>\n",
       "      <td>2020-08-28</td>\n",
       "      <td>Yiren Digital -6.5% on depressing Q2 numbers</td>\n",
       "      <td>-0.3818</td>\n",
       "    </tr>\n",
       "  </tbody>\n",
       "</table>\n",
       "<p>74998 rows × 3 columns</p>\n",
       "</div>"
      ],
      "text/plain": [
       "            date  \\\n",
       "0     2020-01-01   \n",
       "1     2020-01-01   \n",
       "2     2020-01-01   \n",
       "3     2020-01-01   \n",
       "4     2020-01-01   \n",
       "...          ...   \n",
       "74993 2020-08-28   \n",
       "74994 2020-08-28   \n",
       "74995 2020-08-28   \n",
       "74996 2020-08-28   \n",
       "74997 2020-08-28   \n",
       "\n",
       "                                                                                             headline  \\\n",
       "0                                2020 Predictions: No Rate Cuts, No Recession, Sell Apple, Buy Energy   \n",
       "1                                 3 Reasons Why Growth Investors Shouldn't Overlook Fair Isaac (FICO)   \n",
       "2                                     3 Tech Giants That Could Benefit From The 5G Revolution In 2020   \n",
       "3                                             ACA or CBPX: Which Is the Better Value Stock Right Now?   \n",
       "4                              All You Need to Know About Alexion (ALXN) Rating Upgrade to Strong Buy   \n",
       "...                                                                                               ...   \n",
       "74993   Weyland Tech assumes the name of its subsidiary, Logiq, emerges strong for its customer data    \n",
       "74994                         Whipsaw action in gold resolves to the upside, with $2K again in sight    \n",
       "74995                                  White House interviewing replacements for FTC head - Politico    \n",
       "74996                                    Workhorse drops on reported HorseFly drone flaws - Barron's    \n",
       "74997                                                   Yiren Digital -6.5% on depressing Q2 numbers    \n",
       "\n",
       "       compound  \n",
       "0       -0.7430  \n",
       "1        0.1625  \n",
       "2        0.4588  \n",
       "3        0.6486  \n",
       "4        0.5106  \n",
       "...         ...  \n",
       "74993    0.5106  \n",
       "74994    0.1779  \n",
       "74995    0.0000  \n",
       "74996    0.0000  \n",
       "74997   -0.3818  \n",
       "\n",
       "[74998 rows x 3 columns]"
      ]
     },
     "execution_count": 5,
     "metadata": {},
     "output_type": "execute_result"
    }
   ],
   "source": [
    "data['date'] = pd.to_datetime(data['date'])\n",
    "data"
   ]
  },
  {
   "cell_type": "code",
   "execution_count": 6,
   "metadata": {},
   "outputs": [
    {
     "data": {
      "text/plain": [
       "0        1\n",
       "1        1\n",
       "2        1\n",
       "3        1\n",
       "4        1\n",
       "        ..\n",
       "74993    8\n",
       "74994    8\n",
       "74995    8\n",
       "74996    8\n",
       "74997    8\n",
       "Name: date, Length: 74998, dtype: int64"
      ]
     },
     "execution_count": 6,
     "metadata": {},
     "output_type": "execute_result"
    }
   ],
   "source": [
    "data.date.dt.month #OK, I HAVE DATA TILL AUGUST"
   ]
  },
  {
   "cell_type": "markdown",
   "metadata": {},
   "source": [
    "COMPUTE AVG OF COMPOUND SCORE FOR EACH DAY"
   ]
  },
  {
   "cell_type": "code",
   "execution_count": 7,
   "metadata": {},
   "outputs": [],
   "source": [
    "mean_df = data.groupby(\"date\").mean()"
   ]
  },
  {
   "cell_type": "code",
   "execution_count": 8,
   "metadata": {},
   "outputs": [
    {
     "data": {
      "text/html": [
       "<div>\n",
       "<style scoped>\n",
       "    .dataframe tbody tr th:only-of-type {\n",
       "        vertical-align: middle;\n",
       "    }\n",
       "\n",
       "    .dataframe tbody tr th {\n",
       "        vertical-align: top;\n",
       "    }\n",
       "\n",
       "    .dataframe thead th {\n",
       "        text-align: right;\n",
       "    }\n",
       "</style>\n",
       "<table border=\"1\" class=\"dataframe\">\n",
       "  <thead>\n",
       "    <tr style=\"text-align: right;\">\n",
       "      <th></th>\n",
       "      <th>compound</th>\n",
       "    </tr>\n",
       "    <tr>\n",
       "      <th>date</th>\n",
       "      <th></th>\n",
       "    </tr>\n",
       "  </thead>\n",
       "  <tbody>\n",
       "    <tr>\n",
       "      <th>2020-01-01</th>\n",
       "      <td>0.169288</td>\n",
       "    </tr>\n",
       "    <tr>\n",
       "      <th>2020-01-02</th>\n",
       "      <td>0.144309</td>\n",
       "    </tr>\n",
       "    <tr>\n",
       "      <th>2020-01-03</th>\n",
       "      <td>0.107039</td>\n",
       "    </tr>\n",
       "    <tr>\n",
       "      <th>2020-01-04</th>\n",
       "      <td>0.012900</td>\n",
       "    </tr>\n",
       "    <tr>\n",
       "      <th>2020-01-05</th>\n",
       "      <td>-0.014406</td>\n",
       "    </tr>\n",
       "    <tr>\n",
       "      <th>...</th>\n",
       "      <td>...</td>\n",
       "    </tr>\n",
       "    <tr>\n",
       "      <th>2020-08-24</th>\n",
       "      <td>0.048212</td>\n",
       "    </tr>\n",
       "    <tr>\n",
       "      <th>2020-08-25</th>\n",
       "      <td>0.061023</td>\n",
       "    </tr>\n",
       "    <tr>\n",
       "      <th>2020-08-26</th>\n",
       "      <td>0.062438</td>\n",
       "    </tr>\n",
       "    <tr>\n",
       "      <th>2020-08-27</th>\n",
       "      <td>0.068652</td>\n",
       "    </tr>\n",
       "    <tr>\n",
       "      <th>2020-08-28</th>\n",
       "      <td>0.050604</td>\n",
       "    </tr>\n",
       "  </tbody>\n",
       "</table>\n",
       "<p>241 rows × 1 columns</p>\n",
       "</div>"
      ],
      "text/plain": [
       "            compound\n",
       "date                \n",
       "2020-01-01  0.169288\n",
       "2020-01-02  0.144309\n",
       "2020-01-03  0.107039\n",
       "2020-01-04  0.012900\n",
       "2020-01-05 -0.014406\n",
       "...              ...\n",
       "2020-08-24  0.048212\n",
       "2020-08-25  0.061023\n",
       "2020-08-26  0.062438\n",
       "2020-08-27  0.068652\n",
       "2020-08-28  0.050604\n",
       "\n",
       "[241 rows x 1 columns]"
      ]
     },
     "execution_count": 8,
     "metadata": {},
     "output_type": "execute_result"
    }
   ],
   "source": [
    "mean_df"
   ]
  },
  {
   "cell_type": "code",
   "execution_count": 9,
   "metadata": {},
   "outputs": [
    {
     "data": {
      "text/html": [
       "<div>\n",
       "<style scoped>\n",
       "    .dataframe tbody tr th:only-of-type {\n",
       "        vertical-align: middle;\n",
       "    }\n",
       "\n",
       "    .dataframe tbody tr th {\n",
       "        vertical-align: top;\n",
       "    }\n",
       "\n",
       "    .dataframe thead th {\n",
       "        text-align: right;\n",
       "    }\n",
       "</style>\n",
       "<table border=\"1\" class=\"dataframe\">\n",
       "  <thead>\n",
       "    <tr style=\"text-align: right;\">\n",
       "      <th></th>\n",
       "      <th>vader_score</th>\n",
       "    </tr>\n",
       "    <tr>\n",
       "      <th>date</th>\n",
       "      <th></th>\n",
       "    </tr>\n",
       "  </thead>\n",
       "  <tbody>\n",
       "    <tr>\n",
       "      <th>2020-01-01</th>\n",
       "      <td>0.169288</td>\n",
       "    </tr>\n",
       "    <tr>\n",
       "      <th>2020-01-02</th>\n",
       "      <td>0.144309</td>\n",
       "    </tr>\n",
       "    <tr>\n",
       "      <th>2020-01-03</th>\n",
       "      <td>0.107039</td>\n",
       "    </tr>\n",
       "    <tr>\n",
       "      <th>2020-01-04</th>\n",
       "      <td>0.012900</td>\n",
       "    </tr>\n",
       "    <tr>\n",
       "      <th>2020-01-05</th>\n",
       "      <td>-0.014406</td>\n",
       "    </tr>\n",
       "    <tr>\n",
       "      <th>...</th>\n",
       "      <td>...</td>\n",
       "    </tr>\n",
       "    <tr>\n",
       "      <th>2020-08-24</th>\n",
       "      <td>0.048212</td>\n",
       "    </tr>\n",
       "    <tr>\n",
       "      <th>2020-08-25</th>\n",
       "      <td>0.061023</td>\n",
       "    </tr>\n",
       "    <tr>\n",
       "      <th>2020-08-26</th>\n",
       "      <td>0.062438</td>\n",
       "    </tr>\n",
       "    <tr>\n",
       "      <th>2020-08-27</th>\n",
       "      <td>0.068652</td>\n",
       "    </tr>\n",
       "    <tr>\n",
       "      <th>2020-08-28</th>\n",
       "      <td>0.050604</td>\n",
       "    </tr>\n",
       "  </tbody>\n",
       "</table>\n",
       "<p>241 rows × 1 columns</p>\n",
       "</div>"
      ],
      "text/plain": [
       "            vader_score\n",
       "date                   \n",
       "2020-01-01     0.169288\n",
       "2020-01-02     0.144309\n",
       "2020-01-03     0.107039\n",
       "2020-01-04     0.012900\n",
       "2020-01-05    -0.014406\n",
       "...                 ...\n",
       "2020-08-24     0.048212\n",
       "2020-08-25     0.061023\n",
       "2020-08-26     0.062438\n",
       "2020-08-27     0.068652\n",
       "2020-08-28     0.050604\n",
       "\n",
       "[241 rows x 1 columns]"
      ]
     },
     "execution_count": 9,
     "metadata": {},
     "output_type": "execute_result"
    }
   ],
   "source": [
    "mean_df.rename(columns = {'compound':'vader_score'}, inplace = True)\n",
    "mean_df"
   ]
  },
  {
   "cell_type": "code",
   "execution_count": 10,
   "metadata": {},
   "outputs": [],
   "source": [
    "mean_df.to_csv('sentiment_index/news_vader_score.csv')"
   ]
  },
  {
   "cell_type": "markdown",
   "metadata": {},
   "source": [
    "COUNT NUMBER OF NEWS PER EACH DAY"
   ]
  },
  {
   "cell_type": "code",
   "execution_count": 27,
   "metadata": {},
   "outputs": [],
   "source": [
    "n_news = data.groupby(\"date\")['headline'].count()\n",
    "n_news.to_frame().to_csv('n_day_news.csv')"
   ]
  },
  {
   "cell_type": "code",
   "execution_count": 12,
   "metadata": {},
   "outputs": [
    {
     "data": {
      "text/plain": [
       "<matplotlib.lines.Line2D at 0x1d2231e0588>"
      ]
     },
     "execution_count": 12,
     "metadata": {},
     "output_type": "execute_result"
    },
    {
     "data": {
      "image/png": "[encoded data removed]",
      "text/plain": [
       "<Figure size 432x288 with 1 Axes>"
      ]
     },
     "metadata": {
      "needs_background": "light"
     },
     "output_type": "display_data"
    }
   ],
   "source": [
    "n_news.plot()\n",
    "plt.title(\"NUMBER OF NEWS FOR EACH DAY\")\n",
    "plt.axhline(10, color='red')"
   ]
  },
  {
   "cell_type": "markdown",
   "metadata": {},
   "source": [
    "COUNT NUMBER OF NEWS PER EACH MONTH"
   ]
  },
  {
   "cell_type": "code",
   "execution_count": 13,
   "metadata": {},
   "outputs": [
    {
     "data": {
      "text/plain": [
       "DatetimeIndex(['2020-01-01', '2020-01-02', '2020-01-03', '2020-01-04',\n",
       "               '2020-01-05', '2020-01-06', '2020-01-07', '2020-01-08',\n",
       "               '2020-01-09', '2020-01-10',\n",
       "               ...\n",
       "               '2020-08-19', '2020-08-20', '2020-08-21', '2020-08-22',\n",
       "               '2020-08-23', '2020-08-24', '2020-08-25', '2020-08-26',\n",
       "               '2020-08-27', '2020-08-28'],\n",
       "              dtype='datetime64[ns]', name='date', length=241, freq=None)"
      ]
     },
     "execution_count": 13,
     "metadata": {},
     "output_type": "execute_result"
    }
   ],
   "source": [
    "n_news.index #DATA TILL AUGUST"
   ]
  },
  {
   "cell_type": "code",
   "execution_count": 26,
   "metadata": {},
   "outputs": [
    {
     "data": {
      "text/plain": [
       "Text(0.5, 1.0, 'NUMBER OF NEWS FOR EACH MONTH')"
      ]
     },
     "execution_count": 26,
     "metadata": {},
     "output_type": "execute_result"
    },
    {
     "data": {
      "image/png": "[encoded data removed]",
      "text/plain": [
       "<Figure size 432x288 with 1 Axes>"
      ]
     },
     "metadata": {
      "needs_background": "light"
     },
     "output_type": "display_data"
    }
   ],
   "source": [
    "plt.bar(n_news.index.month,n_news)\n",
    "plt.title(\"NUMBER OF NEWS FOR EACH MONTH\")"
   ]
  },
  {
   "cell_type": "markdown",
   "metadata": {},
   "source": [
    "PLOT THE VADER SENTIMENT SCORES FOR NEWS DATASET"
   ]
  },
  {
   "cell_type": "code",
   "execution_count": 15,
   "metadata": {},
   "outputs": [
    {
     "data": {
      "text/plain": [
       "<matplotlib.lines.Line2D at 0x1d2236c52c8>"
      ]
     },
     "execution_count": 15,
     "metadata": {},
     "output_type": "execute_result"
    },
    {
     "data": {
      "image/png": "[encoded data removed]",
      "text/plain": [
       "<Figure size 432x288 with 1 Axes>"
      ]
     },
     "metadata": {
      "needs_background": "light"
     },
     "output_type": "display_data"
    }
   ],
   "source": [
    "mean_df.plot()\n",
    "plt.axhline(0, color='red')"
   ]
  },
  {
   "cell_type": "code",
   "execution_count": 16,
   "metadata": {},
   "outputs": [
    {
     "data": {
      "text/html": [
       "<div>\n",
       "<style scoped>\n",
       "    .dataframe tbody tr th:only-of-type {\n",
       "        vertical-align: middle;\n",
       "    }\n",
       "\n",
       "    .dataframe tbody tr th {\n",
       "        vertical-align: top;\n",
       "    }\n",
       "\n",
       "    .dataframe thead th {\n",
       "        text-align: right;\n",
       "    }\n",
       "</style>\n",
       "<table border=\"1\" class=\"dataframe\">\n",
       "  <thead>\n",
       "    <tr style=\"text-align: right;\">\n",
       "      <th></th>\n",
       "      <th>vader_score</th>\n",
       "    </tr>\n",
       "    <tr>\n",
       "      <th>date</th>\n",
       "      <th></th>\n",
       "    </tr>\n",
       "  </thead>\n",
       "  <tbody>\n",
       "    <tr>\n",
       "      <th>1</th>\n",
       "      <td>0.111562</td>\n",
       "    </tr>\n",
       "    <tr>\n",
       "      <th>2</th>\n",
       "      <td>0.152898</td>\n",
       "    </tr>\n",
       "    <tr>\n",
       "      <th>3</th>\n",
       "      <td>0.095949</td>\n",
       "    </tr>\n",
       "    <tr>\n",
       "      <th>4</th>\n",
       "      <td>0.071032</td>\n",
       "    </tr>\n",
       "    <tr>\n",
       "      <th>5</th>\n",
       "      <td>0.099223</td>\n",
       "    </tr>\n",
       "    <tr>\n",
       "      <th>6</th>\n",
       "      <td>-0.017300</td>\n",
       "    </tr>\n",
       "    <tr>\n",
       "      <th>7</th>\n",
       "      <td>0.031757</td>\n",
       "    </tr>\n",
       "    <tr>\n",
       "      <th>8</th>\n",
       "      <td>0.020772</td>\n",
       "    </tr>\n",
       "  </tbody>\n",
       "</table>\n",
       "</div>"
      ],
      "text/plain": [
       "      vader_score\n",
       "date             \n",
       "1        0.111562\n",
       "2        0.152898\n",
       "3        0.095949\n",
       "4        0.071032\n",
       "5        0.099223\n",
       "6       -0.017300\n",
       "7        0.031757\n",
       "8        0.020772"
      ]
     },
     "execution_count": 16,
     "metadata": {},
     "output_type": "execute_result"
    }
   ],
   "source": [
    "d2=mean_df.groupby(mean_df.index.month).mean() #avg of each month\n",
    "d2"
   ]
  },
  {
   "cell_type": "code",
   "execution_count": 17,
   "metadata": {},
   "outputs": [
    {
     "data": {
      "text/plain": [
       "<matplotlib.lines.Line2D at 0x1d2237007c8>"
      ]
     },
     "execution_count": 17,
     "metadata": {},
     "output_type": "execute_result"
    },
    {
     "data": {
      "image/png": "[encoded data removed]",
      "text/plain": [
       "<Figure size 432x288 with 1 Axes>"
      ]
     },
     "metadata": {
      "needs_background": "light"
     },
     "output_type": "display_data"
    }
   ],
   "source": [
    "d2.plot()\n",
    "plt.axhline(0, color='red')"
   ]
  },
  {
   "cell_type": "markdown",
   "metadata": {},
   "source": [
    "CREATION OF VADER LABELS (POSITIVE, NEUTRAL, NEGATIVE) WITH A COMPOUND TRESHOLD OF [ -0.025, +0.025 ]"
   ]
  },
  {
   "cell_type": "code",
   "execution_count": 18,
   "metadata": {},
   "outputs": [
    {
     "data": {
      "text/html": [
       "<div>\n",
       "<style scoped>\n",
       "    .dataframe tbody tr th:only-of-type {\n",
       "        vertical-align: middle;\n",
       "    }\n",
       "\n",
       "    .dataframe tbody tr th {\n",
       "        vertical-align: top;\n",
       "    }\n",
       "\n",
       "    .dataframe thead th {\n",
       "        text-align: right;\n",
       "    }\n",
       "</style>\n",
       "<table border=\"1\" class=\"dataframe\">\n",
       "  <thead>\n",
       "    <tr style=\"text-align: right;\">\n",
       "      <th></th>\n",
       "      <th>date</th>\n",
       "      <th>headline</th>\n",
       "      <th>vader_score</th>\n",
       "      <th>vader_label</th>\n",
       "    </tr>\n",
       "  </thead>\n",
       "  <tbody>\n",
       "    <tr>\n",
       "      <th>54640</th>\n",
       "      <td>2020-05-18</td>\n",
       "      <td>How to Trade Powell's Comments on Economy With ETFs</td>\n",
       "      <td>0.00</td>\n",
       "      <td>neutral</td>\n",
       "    </tr>\n",
       "    <tr>\n",
       "      <th>58077</th>\n",
       "      <td>2020-06-01</td>\n",
       "      <td>Fiat Chrysler to list robot-making business after PSA merger. Fiat Chrysler (FCA)  said it planned to list robot making business, giving more detail on Monday about the future of Turin-based Comau, which it already planned to spin off.</td>\n",
       "      <td>0.34</td>\n",
       "      <td>positive</td>\n",
       "    </tr>\n",
       "    <tr>\n",
       "      <th>56373</th>\n",
       "      <td>2020-05-26</td>\n",
       "      <td>Automotive Brake Master Cylinder Market â€”â€¦â€”â€¦-â€”â€¦â€”9 Size And Forecast ...</td>\n",
       "      <td>0.00</td>\n",
       "      <td>neutral</td>\n",
       "    </tr>\n",
       "    <tr>\n",
       "      <th>37700</th>\n",
       "      <td>2020-04-07</td>\n",
       "      <td>Earnings Preview: Commerce Bancshares (CBSH) Q1 Earnings Expected to Decline</td>\n",
       "      <td>0.00</td>\n",
       "      <td>neutral</td>\n",
       "    </tr>\n",
       "    <tr>\n",
       "      <th>11650</th>\n",
       "      <td>2020-02-06</td>\n",
       "      <td>Knoll Declares Cash Dividend</td>\n",
       "      <td>0.00</td>\n",
       "      <td>neutral</td>\n",
       "    </tr>\n",
       "  </tbody>\n",
       "</table>\n",
       "</div>"
      ],
      "text/plain": [
       "            date  \\\n",
       "54640 2020-05-18   \n",
       "58077 2020-06-01   \n",
       "56373 2020-05-26   \n",
       "37700 2020-04-07   \n",
       "11650 2020-02-06   \n",
       "\n",
       "                                                                                                                                                                                                                                          headline  \\\n",
       "54640                                                                                                                                                                                          How to Trade Powell's Comments on Economy With ETFs   \n",
       "58077  Fiat Chrysler to list robot-making business after PSA merger. Fiat Chrysler (FCA)  said it planned to list robot making business, giving more detail on Monday about the future of Turin-based Comau, which it already planned to spin off.   \n",
       "56373                                                                                                                                                        Automotive Brake Master Cylinder Market â€”â€¦â€”â€¦-â€”â€¦â€”9 Size And Forecast ...   \n",
       "37700                                                                                                                                                                 Earnings Preview: Commerce Bancshares (CBSH) Q1 Earnings Expected to Decline   \n",
       "11650                                                                                                                                                                                                                 Knoll Declares Cash Dividend   \n",
       "\n",
       "       vader_score vader_label  \n",
       "54640         0.00     neutral  \n",
       "58077         0.34    positive  \n",
       "56373         0.00     neutral  \n",
       "37700         0.00     neutral  \n",
       "11650         0.00     neutral  "
      ]
     },
     "execution_count": 18,
     "metadata": {},
     "output_type": "execute_result"
    }
   ],
   "source": [
    "def format_output(output_dict):\n",
    "  \n",
    "    polarity = \"neutral\"\n",
    "\n",
    "    if output_dict['compound']>= 0.025:\n",
    "        polarity = \"positive\"\n",
    "\n",
    "    elif output_dict['compound']<= -0.025:\n",
    "        polarity = \"negative\"\n",
    "\n",
    "    return polarity\n",
    "\n",
    "def predict_sentiment(text):\n",
    "  \n",
    "    output_dict =  vader.polarity_scores(text)\n",
    "    return format_output(output_dict)\n",
    "\n",
    "# Run the predictions\n",
    "data[\"vader_prediction\"] = data[\"headline\"].apply(predict_sentiment)\n",
    "\n",
    "data.rename(columns = {'compound':'vader_score'}, inplace = True)\n",
    "data.rename(columns = {'vader_prediction':'vader_label'}, inplace = True)\n",
    "\n",
    "# Show 5 random rows of the data\n",
    "data.sample(5)"
   ]
  },
  {
   "cell_type": "code",
   "execution_count": 19,
   "metadata": {},
   "outputs": [
    {
     "data": {
      "text/html": [
       "<div>\n",
       "<style scoped>\n",
       "    .dataframe tbody tr th:only-of-type {\n",
       "        vertical-align: middle;\n",
       "    }\n",
       "\n",
       "    .dataframe tbody tr th {\n",
       "        vertical-align: top;\n",
       "    }\n",
       "\n",
       "    .dataframe thead th {\n",
       "        text-align: right;\n",
       "    }\n",
       "</style>\n",
       "<table border=\"1\" class=\"dataframe\">\n",
       "  <thead>\n",
       "    <tr style=\"text-align: right;\">\n",
       "      <th></th>\n",
       "      <th>date</th>\n",
       "      <th>headline</th>\n",
       "      <th>vader_score</th>\n",
       "      <th>vader_label</th>\n",
       "    </tr>\n",
       "  </thead>\n",
       "  <tbody>\n",
       "    <tr>\n",
       "      <th>0</th>\n",
       "      <td>2020-01-01</td>\n",
       "      <td>2020 Predictions: No Rate Cuts, No Recession, Sell Apple, Buy Energy</td>\n",
       "      <td>-0.7430</td>\n",
       "      <td>negative</td>\n",
       "    </tr>\n",
       "    <tr>\n",
       "      <th>1</th>\n",
       "      <td>2020-01-01</td>\n",
       "      <td>3 Reasons Why Growth Investors Shouldn't Overlook Fair Isaac (FICO)</td>\n",
       "      <td>0.1625</td>\n",
       "      <td>positive</td>\n",
       "    </tr>\n",
       "    <tr>\n",
       "      <th>2</th>\n",
       "      <td>2020-01-01</td>\n",
       "      <td>3 Tech Giants That Could Benefit From The 5G Revolution In 2020</td>\n",
       "      <td>0.4588</td>\n",
       "      <td>positive</td>\n",
       "    </tr>\n",
       "    <tr>\n",
       "      <th>3</th>\n",
       "      <td>2020-01-01</td>\n",
       "      <td>ACA or CBPX: Which Is the Better Value Stock Right Now?</td>\n",
       "      <td>0.6486</td>\n",
       "      <td>positive</td>\n",
       "    </tr>\n",
       "    <tr>\n",
       "      <th>4</th>\n",
       "      <td>2020-01-01</td>\n",
       "      <td>All You Need to Know About Alexion (ALXN) Rating Upgrade to Strong Buy</td>\n",
       "      <td>0.5106</td>\n",
       "      <td>positive</td>\n",
       "    </tr>\n",
       "    <tr>\n",
       "      <th>...</th>\n",
       "      <td>...</td>\n",
       "      <td>...</td>\n",
       "      <td>...</td>\n",
       "      <td>...</td>\n",
       "    </tr>\n",
       "    <tr>\n",
       "      <th>74993</th>\n",
       "      <td>2020-08-28</td>\n",
       "      <td>Weyland Tech assumes the name of its subsidiary, Logiq, emerges strong for its customer data</td>\n",
       "      <td>0.5106</td>\n",
       "      <td>positive</td>\n",
       "    </tr>\n",
       "    <tr>\n",
       "      <th>74994</th>\n",
       "      <td>2020-08-28</td>\n",
       "      <td>Whipsaw action in gold resolves to the upside, with $2K again in sight</td>\n",
       "      <td>0.1779</td>\n",
       "      <td>positive</td>\n",
       "    </tr>\n",
       "    <tr>\n",
       "      <th>74995</th>\n",
       "      <td>2020-08-28</td>\n",
       "      <td>White House interviewing replacements for FTC head - Politico</td>\n",
       "      <td>0.0000</td>\n",
       "      <td>neutral</td>\n",
       "    </tr>\n",
       "    <tr>\n",
       "      <th>74996</th>\n",
       "      <td>2020-08-28</td>\n",
       "      <td>Workhorse drops on reported HorseFly drone flaws - Barron's</td>\n",
       "      <td>0.0000</td>\n",
       "      <td>neutral</td>\n",
       "    </tr>\n",
       "    <tr>\n",
       "      <th>74997</th>\n",
       "      <td>2020-08-28</td>\n",
       "      <td>Yiren Digital -6.5% on depressing Q2 numbers</td>\n",
       "      <td>-0.3818</td>\n",
       "      <td>negative</td>\n",
       "    </tr>\n",
       "  </tbody>\n",
       "</table>\n",
       "<p>74998 rows × 4 columns</p>\n",
       "</div>"
      ],
      "text/plain": [
       "            date  \\\n",
       "0     2020-01-01   \n",
       "1     2020-01-01   \n",
       "2     2020-01-01   \n",
       "3     2020-01-01   \n",
       "4     2020-01-01   \n",
       "...          ...   \n",
       "74993 2020-08-28   \n",
       "74994 2020-08-28   \n",
       "74995 2020-08-28   \n",
       "74996 2020-08-28   \n",
       "74997 2020-08-28   \n",
       "\n",
       "                                                                                             headline  \\\n",
       "0                                2020 Predictions: No Rate Cuts, No Recession, Sell Apple, Buy Energy   \n",
       "1                                 3 Reasons Why Growth Investors Shouldn't Overlook Fair Isaac (FICO)   \n",
       "2                                     3 Tech Giants That Could Benefit From The 5G Revolution In 2020   \n",
       "3                                             ACA or CBPX: Which Is the Better Value Stock Right Now?   \n",
       "4                              All You Need to Know About Alexion (ALXN) Rating Upgrade to Strong Buy   \n",
       "...                                                                                               ...   \n",
       "74993   Weyland Tech assumes the name of its subsidiary, Logiq, emerges strong for its customer data    \n",
       "74994                         Whipsaw action in gold resolves to the upside, with $2K again in sight    \n",
       "74995                                  White House interviewing replacements for FTC head - Politico    \n",
       "74996                                    Workhorse drops on reported HorseFly drone flaws - Barron's    \n",
       "74997                                                   Yiren Digital -6.5% on depressing Q2 numbers    \n",
       "\n",
       "       vader_score vader_label  \n",
       "0          -0.7430    negative  \n",
       "1           0.1625    positive  \n",
       "2           0.4588    positive  \n",
       "3           0.6486    positive  \n",
       "4           0.5106    positive  \n",
       "...            ...         ...  \n",
       "74993       0.5106    positive  \n",
       "74994       0.1779    positive  \n",
       "74995       0.0000     neutral  \n",
       "74996       0.0000     neutral  \n",
       "74997      -0.3818    negative  \n",
       "\n",
       "[74998 rows x 4 columns]"
      ]
     },
     "execution_count": 19,
     "metadata": {},
     "output_type": "execute_result"
    }
   ],
   "source": [
    "data"
   ]
  },
  {
   "cell_type": "code",
   "execution_count": 20,
   "metadata": {},
   "outputs": [
    {
     "data": {
      "text/plain": [
       "neutral     33603\n",
       "positive    29879\n",
       "negative    11516\n",
       "Name: vader_label, dtype: int64"
      ]
     },
     "execution_count": 20,
     "metadata": {},
     "output_type": "execute_result"
    }
   ],
   "source": [
    "data['vader_label'].value_counts()"
   ]
  },
  {
   "cell_type": "code",
   "execution_count": 21,
   "metadata": {},
   "outputs": [
    {
     "data": {
      "text/plain": [
       "neutral     0.448052\n",
       "positive    0.398397\n",
       "negative    0.153551\n",
       "Name: vader_label, dtype: float64"
      ]
     },
     "execution_count": 21,
     "metadata": {},
     "output_type": "execute_result"
    }
   ],
   "source": [
    "data['vader_label'].value_counts(normalize=True) #MUCH BETTER RESULTS THAN WITH PREVIOUS (NOT CLEANED) DATA"
   ]
  },
  {
   "cell_type": "code",
   "execution_count": 22,
   "metadata": {},
   "outputs": [
    {
     "data": {
      "text/html": [
       "<div>\n",
       "<style scoped>\n",
       "    .dataframe tbody tr th:only-of-type {\n",
       "        vertical-align: middle;\n",
       "    }\n",
       "\n",
       "    .dataframe tbody tr th {\n",
       "        vertical-align: top;\n",
       "    }\n",
       "\n",
       "    .dataframe thead th {\n",
       "        text-align: right;\n",
       "    }\n",
       "</style>\n",
       "<table border=\"1\" class=\"dataframe\">\n",
       "  <thead>\n",
       "    <tr style=\"text-align: right;\">\n",
       "      <th></th>\n",
       "      <th>date</th>\n",
       "      <th>headline</th>\n",
       "      <th>vader_score</th>\n",
       "      <th>vader_label</th>\n",
       "    </tr>\n",
       "  </thead>\n",
       "  <tbody>\n",
       "    <tr>\n",
       "      <th>0</th>\n",
       "      <td>2020-01-01</td>\n",
       "      <td>2020 Predictions: No Rate Cuts, No Recession, Sell Apple, Buy Energy</td>\n",
       "      <td>-0.7430</td>\n",
       "      <td>negative</td>\n",
       "    </tr>\n",
       "    <tr>\n",
       "      <th>1</th>\n",
       "      <td>2020-01-01</td>\n",
       "      <td>3 Reasons Why Growth Investors Shouldn't Overlook Fair Isaac (FICO)</td>\n",
       "      <td>0.1625</td>\n",
       "      <td>positive</td>\n",
       "    </tr>\n",
       "    <tr>\n",
       "      <th>2</th>\n",
       "      <td>2020-01-01</td>\n",
       "      <td>3 Tech Giants That Could Benefit From The 5G Revolution In 2020</td>\n",
       "      <td>0.4588</td>\n",
       "      <td>positive</td>\n",
       "    </tr>\n",
       "    <tr>\n",
       "      <th>3</th>\n",
       "      <td>2020-01-01</td>\n",
       "      <td>ACA or CBPX: Which Is the Better Value Stock Right Now?</td>\n",
       "      <td>0.6486</td>\n",
       "      <td>positive</td>\n",
       "    </tr>\n",
       "    <tr>\n",
       "      <th>4</th>\n",
       "      <td>2020-01-01</td>\n",
       "      <td>All You Need to Know About Alexion (ALXN) Rating Upgrade to Strong Buy</td>\n",
       "      <td>0.5106</td>\n",
       "      <td>positive</td>\n",
       "    </tr>\n",
       "    <tr>\n",
       "      <th>...</th>\n",
       "      <td>...</td>\n",
       "      <td>...</td>\n",
       "      <td>...</td>\n",
       "      <td>...</td>\n",
       "    </tr>\n",
       "    <tr>\n",
       "      <th>74993</th>\n",
       "      <td>2020-08-28</td>\n",
       "      <td>Weyland Tech assumes the name of its subsidiary, Logiq, emerges strong for its customer data</td>\n",
       "      <td>0.5106</td>\n",
       "      <td>positive</td>\n",
       "    </tr>\n",
       "    <tr>\n",
       "      <th>74994</th>\n",
       "      <td>2020-08-28</td>\n",
       "      <td>Whipsaw action in gold resolves to the upside, with $2K again in sight</td>\n",
       "      <td>0.1779</td>\n",
       "      <td>positive</td>\n",
       "    </tr>\n",
       "    <tr>\n",
       "      <th>74995</th>\n",
       "      <td>2020-08-28</td>\n",
       "      <td>White House interviewing replacements for FTC head - Politico</td>\n",
       "      <td>0.0000</td>\n",
       "      <td>neutral</td>\n",
       "    </tr>\n",
       "    <tr>\n",
       "      <th>74996</th>\n",
       "      <td>2020-08-28</td>\n",
       "      <td>Workhorse drops on reported HorseFly drone flaws - Barron's</td>\n",
       "      <td>0.0000</td>\n",
       "      <td>neutral</td>\n",
       "    </tr>\n",
       "    <tr>\n",
       "      <th>74997</th>\n",
       "      <td>2020-08-28</td>\n",
       "      <td>Yiren Digital -6.5% on depressing Q2 numbers</td>\n",
       "      <td>-0.3818</td>\n",
       "      <td>negative</td>\n",
       "    </tr>\n",
       "  </tbody>\n",
       "</table>\n",
       "<p>74998 rows × 4 columns</p>\n",
       "</div>"
      ],
      "text/plain": [
       "            date  \\\n",
       "0     2020-01-01   \n",
       "1     2020-01-01   \n",
       "2     2020-01-01   \n",
       "3     2020-01-01   \n",
       "4     2020-01-01   \n",
       "...          ...   \n",
       "74993 2020-08-28   \n",
       "74994 2020-08-28   \n",
       "74995 2020-08-28   \n",
       "74996 2020-08-28   \n",
       "74997 2020-08-28   \n",
       "\n",
       "                                                                                             headline  \\\n",
       "0                                2020 Predictions: No Rate Cuts, No Recession, Sell Apple, Buy Energy   \n",
       "1                                 3 Reasons Why Growth Investors Shouldn't Overlook Fair Isaac (FICO)   \n",
       "2                                     3 Tech Giants That Could Benefit From The 5G Revolution In 2020   \n",
       "3                                             ACA or CBPX: Which Is the Better Value Stock Right Now?   \n",
       "4                              All You Need to Know About Alexion (ALXN) Rating Upgrade to Strong Buy   \n",
       "...                                                                                               ...   \n",
       "74993   Weyland Tech assumes the name of its subsidiary, Logiq, emerges strong for its customer data    \n",
       "74994                         Whipsaw action in gold resolves to the upside, with $2K again in sight    \n",
       "74995                                  White House interviewing replacements for FTC head - Politico    \n",
       "74996                                    Workhorse drops on reported HorseFly drone flaws - Barron's    \n",
       "74997                                                   Yiren Digital -6.5% on depressing Q2 numbers    \n",
       "\n",
       "       vader_score vader_label  \n",
       "0          -0.7430    negative  \n",
       "1           0.1625    positive  \n",
       "2           0.4588    positive  \n",
       "3           0.6486    positive  \n",
       "4           0.5106    positive  \n",
       "...            ...         ...  \n",
       "74993       0.5106    positive  \n",
       "74994       0.1779    positive  \n",
       "74995       0.0000     neutral  \n",
       "74996       0.0000     neutral  \n",
       "74997      -0.3818    negative  \n",
       "\n",
       "[74998 rows x 4 columns]"
      ]
     },
     "execution_count": 22,
     "metadata": {},
     "output_type": "execute_result"
    }
   ],
   "source": [
    "data"
   ]
  },
  {
   "cell_type": "code",
   "execution_count": 23,
   "metadata": {},
   "outputs": [],
   "source": [
    "data.to_csv('sentiment_analysis_results/news_vader_senti_after_cl.csv', index=False, encoding='utf-8-sig')"
   ]
  }
 ],
 "metadata": {
  "kernelspec": {
   "display_name": "Python 3",
   "language": "python",
   "name": "python3"
  },
  "language_info": {
   "codemirror_mode": {
    "name": "ipython",
    "version": 3
   },
   "file_extension": ".py",
   "mimetype": "text/x-python",
   "name": "python",
   "nbconvert_exporter": "python",
   "pygments_lexer": "ipython3",
   "version": "3.7.4"
  }
 },
 "nbformat": 4,
 "nbformat_minor": 4
}
