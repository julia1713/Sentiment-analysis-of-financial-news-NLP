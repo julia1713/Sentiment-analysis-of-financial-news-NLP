{
 "cells": [
  {
   "cell_type": "markdown",
   "metadata": {},
   "source": [
    "### APPLICATION OF VADER SENTIMENT ANALYZER  TO TWEETS DATASET"
   ]
  },
  {
   "cell_type": "code",
   "execution_count": 1,
   "metadata": {},
   "outputs": [
    {
     "name": "stderr",
     "output_type": "stream",
     "text": [
      "[nltk_data] Downloading package vader_lexicon to\n",
      "[nltk_data]     C:\\Users\\Giulia\\AppData\\Roaming\\nltk_data...\n",
      "[nltk_data]   Package vader_lexicon is already up-to-date!\n"
     ]
    }
   ],
   "source": [
    "import pandas as pd\n",
    "import matplotlib.pyplot as plt #plot the sentiment on a chart\n",
    "import nltk \n",
    "nltk.download('vader_lexicon')\n",
    "from nltk.sentiment.vader import SentimentIntensityAnalyzer #perform sentiment analysis \n",
    "import matplotlib.pyplot as plt\n",
    "pd.set_option('display.max_colwidth',None)"
   ]
  },
  {
   "cell_type": "code",
   "execution_count": 2,
   "metadata": {},
   "outputs": [
    {
     "data": {
      "text/html": [
       "<div>\n",
       "<style scoped>\n",
       "    .dataframe tbody tr th:only-of-type {\n",
       "        vertical-align: middle;\n",
       "    }\n",
       "\n",
       "    .dataframe tbody tr th {\n",
       "        vertical-align: top;\n",
       "    }\n",
       "\n",
       "    .dataframe thead th {\n",
       "        text-align: right;\n",
       "    }\n",
       "</style>\n",
       "<table border=\"1\" class=\"dataframe\">\n",
       "  <thead>\n",
       "    <tr style=\"text-align: right;\">\n",
       "      <th></th>\n",
       "      <th>date</th>\n",
       "      <th>text</th>\n",
       "    </tr>\n",
       "  </thead>\n",
       "  <tbody>\n",
       "    <tr>\n",
       "      <th>0</th>\n",
       "      <td>2020-01-01</td>\n",
       "      <td>asends andbegins, here are some quick observations that i hope will help you stay balanced in your approach to equity investing  #retirement #sp500 #investing</td>\n",
       "    </tr>\n",
       "    <tr>\n",
       "      <th>1</th>\n",
       "      <td>2020-01-01</td>\n",
       "      <td>#sp500  spstock index   chicago mercantile exchange commitments of traders cot legacy report tuesday,of december of#cotreport #cotindex #cftc #futures</td>\n",
       "    </tr>\n",
       "    <tr>\n",
       "      <th>2</th>\n",
       "      <td>2020-01-01</td>\n",
       "      <td>cot index #sp500  spstock index   chicago mercantile exchange commitments of traders cot legacy report tuesday,of december of#cotreport #cotindex #cftc #futures</td>\n",
       "    </tr>\n",
       "    <tr>\n",
       "      <th>3</th>\n",
       "      <td>2020-01-01</td>\n",
       "      <td>historical daily volatility in pips  group indexes $spx500 $nas100 $usb10y #spx500 #nas100 #usb10y #trading #forex #trends</td>\n",
       "    </tr>\n",
       "    <tr>\n",
       "      <th>4</th>\n",
       "      <td>2020-01-01</td>\n",
       "      <td>long vs short #sp500  spstock index   chicago mercantile exchange commitments of traders cot legacy report tuesday,of december of#cotreport #cftc #futures</td>\n",
       "    </tr>\n",
       "    <tr>\n",
       "      <th>...</th>\n",
       "      <td>...</td>\n",
       "      <td>...</td>\n",
       "    </tr>\n",
       "    <tr>\n",
       "      <th>61838</th>\n",
       "      <td>2020-08-30</td>\n",
       "      <td>weekly targets for making regular income from options #cashflow #tna #tqqq #fas #spy #upro #qqq #regular #income #optionstrading #options #etf #nasdaq100 #sp500 #us500 #rut #stocktrading #stockstowatch #stockstobuy</td>\n",
       "    </tr>\n",
       "    <tr>\n",
       "      <th>61839</th>\n",
       "      <td>2020-08-30</td>\n",
       "      <td>what will this week bring to the markets? #profitsrun #billpoulos #investing #wallstreet #stockmarket #nyse #nasdaq #sp500 #dowjones</td>\n",
       "    </tr>\n",
       "    <tr>\n",
       "      <th>61840</th>\n",
       "      <td>2020-08-30</td>\n",
       "      <td>will the s&amp;p 500 sustain its momentum for a few more weeks and make this the greatest rally from the lows till election time? #stocks #markets #economy #investing #financialservices #rally #recovery #electionday #bullmarket #spx #sp500</td>\n",
       "    </tr>\n",
       "    <tr>\n",
       "      <th>61841</th>\n",
       "      <td>2020-08-30</td>\n",
       "      <td>with #es #spx above 3500 we are starting a new week let’s get ready for some profitable days  wishing the best for all of you have a great trading week! 👊</td>\n",
       "    </tr>\n",
       "    <tr>\n",
       "      <th>61842</th>\n",
       "      <td>2020-08-30</td>\n",
       "      <td>yellow level mfe table for the week 24 28 august 2020 performance: +104 69 read more    &amp;gt&amp;gt&amp;gt #spx #dax #eurusd #gbpusd #usdjpy #ftse #dow #nasdaq #usoil #gold #trading</td>\n",
       "    </tr>\n",
       "  </tbody>\n",
       "</table>\n",
       "<p>61843 rows × 2 columns</p>\n",
       "</div>"
      ],
      "text/plain": [
       "             date  \\\n",
       "0      2020-01-01   \n",
       "1      2020-01-01   \n",
       "2      2020-01-01   \n",
       "3      2020-01-01   \n",
       "4      2020-01-01   \n",
       "...           ...   \n",
       "61838  2020-08-30   \n",
       "61839  2020-08-30   \n",
       "61840  2020-08-30   \n",
       "61841  2020-08-30   \n",
       "61842  2020-08-30   \n",
       "\n",
       "                                                                                                                                                                                                                                               text  \n",
       "0                                                                                   asends andbegins, here are some quick observations that i hope will help you stay balanced in your approach to equity investing  #retirement #sp500 #investing   \n",
       "1                                                                                           #sp500  spstock index   chicago mercantile exchange commitments of traders cot legacy report tuesday,of december of#cotreport #cotindex #cftc #futures   \n",
       "2                                                                                 cot index #sp500  spstock index   chicago mercantile exchange commitments of traders cot legacy report tuesday,of december of#cotreport #cotindex #cftc #futures   \n",
       "3                                                                                                                       historical daily volatility in pips  group indexes $spx500 $nas100 $usb10y #spx500 #nas100 #usb10y #trading #forex #trends   \n",
       "4                                                                                       long vs short #sp500  spstock index   chicago mercantile exchange commitments of traders cot legacy report tuesday,of december of#cotreport #cftc #futures   \n",
       "...                                                                                                                                                                                                                                             ...  \n",
       "61838                       weekly targets for making regular income from options #cashflow #tna #tqqq #fas #spy #upro #qqq #regular #income #optionstrading #options #etf #nasdaq100 #sp500 #us500 #rut #stocktrading #stockstowatch #stockstobuy   \n",
       "61839                                                                                                         what will this week bring to the markets? #profitsrun #billpoulos #investing #wallstreet #stockmarket #nyse #nasdaq #sp500 #dowjones   \n",
       "61840  will the s&p 500 sustain its momentum for a few more weeks and make this the greatest rally from the lows till election time? #stocks #markets #economy #investing #financialservices #rally #recovery #electionday #bullmarket #spx #sp500   \n",
       "61841                                                                                    with #es #spx above 3500 we are starting a new week let’s get ready for some profitable days  wishing the best for all of you have a great trading week! 👊  \n",
       "61842                                                                 yellow level mfe table for the week 24 28 august 2020 performance: +104 69 read more    &gt&gt&gt #spx #dax #eurusd #gbpusd #usdjpy #ftse #dow #nasdaq #usoil #gold #trading   \n",
       "\n",
       "[61843 rows x 2 columns]"
      ]
     },
     "execution_count": 2,
     "metadata": {},
     "output_type": "execute_result"
    }
   ],
   "source": [
    "data=pd.read_csv('TUTTI_TWEETS_clean.csv', index_col=False, sep=\";\")\n",
    "data"
   ]
  },
  {
   "cell_type": "code",
   "execution_count": 3,
   "metadata": {},
   "outputs": [
    {
     "data": {
      "text/plain": [
       "str"
      ]
     },
     "execution_count": 3,
     "metadata": {},
     "output_type": "execute_result"
    }
   ],
   "source": [
    "type(data['date'][0])"
   ]
  },
  {
   "cell_type": "code",
   "execution_count": 4,
   "metadata": {},
   "outputs": [
    {
     "data": {
      "text/html": [
       "<div>\n",
       "<style scoped>\n",
       "    .dataframe tbody tr th:only-of-type {\n",
       "        vertical-align: middle;\n",
       "    }\n",
       "\n",
       "    .dataframe tbody tr th {\n",
       "        vertical-align: top;\n",
       "    }\n",
       "\n",
       "    .dataframe thead th {\n",
       "        text-align: right;\n",
       "    }\n",
       "</style>\n",
       "<table border=\"1\" class=\"dataframe\">\n",
       "  <thead>\n",
       "    <tr style=\"text-align: right;\">\n",
       "      <th></th>\n",
       "      <th>date</th>\n",
       "      <th>text</th>\n",
       "    </tr>\n",
       "  </thead>\n",
       "  <tbody>\n",
       "    <tr>\n",
       "      <th>0</th>\n",
       "      <td>2020-01-01</td>\n",
       "      <td>asends andbegins, here are some quick observations that i hope will help you stay balanced in your approach to equity investing  #retirement #sp500 #investing</td>\n",
       "    </tr>\n",
       "    <tr>\n",
       "      <th>1</th>\n",
       "      <td>2020-01-01</td>\n",
       "      <td>#sp500  spstock index   chicago mercantile exchange commitments of traders cot legacy report tuesday,of december of#cotreport #cotindex #cftc #futures</td>\n",
       "    </tr>\n",
       "    <tr>\n",
       "      <th>2</th>\n",
       "      <td>2020-01-01</td>\n",
       "      <td>cot index #sp500  spstock index   chicago mercantile exchange commitments of traders cot legacy report tuesday,of december of#cotreport #cotindex #cftc #futures</td>\n",
       "    </tr>\n",
       "    <tr>\n",
       "      <th>3</th>\n",
       "      <td>2020-01-01</td>\n",
       "      <td>historical daily volatility in pips  group indexes $spx500 $nas100 $usb10y #spx500 #nas100 #usb10y #trading #forex #trends</td>\n",
       "    </tr>\n",
       "    <tr>\n",
       "      <th>4</th>\n",
       "      <td>2020-01-01</td>\n",
       "      <td>long vs short #sp500  spstock index   chicago mercantile exchange commitments of traders cot legacy report tuesday,of december of#cotreport #cftc #futures</td>\n",
       "    </tr>\n",
       "    <tr>\n",
       "      <th>...</th>\n",
       "      <td>...</td>\n",
       "      <td>...</td>\n",
       "    </tr>\n",
       "    <tr>\n",
       "      <th>61838</th>\n",
       "      <td>2020-08-30</td>\n",
       "      <td>weekly targets for making regular income from options #cashflow #tna #tqqq #fas #spy #upro #qqq #regular #income #optionstrading #options #etf #nasdaq100 #sp500 #us500 #rut #stocktrading #stockstowatch #stockstobuy</td>\n",
       "    </tr>\n",
       "    <tr>\n",
       "      <th>61839</th>\n",
       "      <td>2020-08-30</td>\n",
       "      <td>what will this week bring to the markets? #profitsrun #billpoulos #investing #wallstreet #stockmarket #nyse #nasdaq #sp500 #dowjones</td>\n",
       "    </tr>\n",
       "    <tr>\n",
       "      <th>61840</th>\n",
       "      <td>2020-08-30</td>\n",
       "      <td>will the s&amp;p 500 sustain its momentum for a few more weeks and make this the greatest rally from the lows till election time? #stocks #markets #economy #investing #financialservices #rally #recovery #electionday #bullmarket #spx #sp500</td>\n",
       "    </tr>\n",
       "    <tr>\n",
       "      <th>61841</th>\n",
       "      <td>2020-08-30</td>\n",
       "      <td>with #es #spx above 3500 we are starting a new week let’s get ready for some profitable days  wishing the best for all of you have a great trading week! 👊</td>\n",
       "    </tr>\n",
       "    <tr>\n",
       "      <th>61842</th>\n",
       "      <td>2020-08-30</td>\n",
       "      <td>yellow level mfe table for the week 24 28 august 2020 performance: +104 69 read more    &amp;gt&amp;gt&amp;gt #spx #dax #eurusd #gbpusd #usdjpy #ftse #dow #nasdaq #usoil #gold #trading</td>\n",
       "    </tr>\n",
       "  </tbody>\n",
       "</table>\n",
       "<p>61843 rows × 2 columns</p>\n",
       "</div>"
      ],
      "text/plain": [
       "            date  \\\n",
       "0     2020-01-01   \n",
       "1     2020-01-01   \n",
       "2     2020-01-01   \n",
       "3     2020-01-01   \n",
       "4     2020-01-01   \n",
       "...          ...   \n",
       "61838 2020-08-30   \n",
       "61839 2020-08-30   \n",
       "61840 2020-08-30   \n",
       "61841 2020-08-30   \n",
       "61842 2020-08-30   \n",
       "\n",
       "                                                                                                                                                                                                                                               text  \n",
       "0                                                                                   asends andbegins, here are some quick observations that i hope will help you stay balanced in your approach to equity investing  #retirement #sp500 #investing   \n",
       "1                                                                                           #sp500  spstock index   chicago mercantile exchange commitments of traders cot legacy report tuesday,of december of#cotreport #cotindex #cftc #futures   \n",
       "2                                                                                 cot index #sp500  spstock index   chicago mercantile exchange commitments of traders cot legacy report tuesday,of december of#cotreport #cotindex #cftc #futures   \n",
       "3                                                                                                                       historical daily volatility in pips  group indexes $spx500 $nas100 $usb10y #spx500 #nas100 #usb10y #trading #forex #trends   \n",
       "4                                                                                       long vs short #sp500  spstock index   chicago mercantile exchange commitments of traders cot legacy report tuesday,of december of#cotreport #cftc #futures   \n",
       "...                                                                                                                                                                                                                                             ...  \n",
       "61838                       weekly targets for making regular income from options #cashflow #tna #tqqq #fas #spy #upro #qqq #regular #income #optionstrading #options #etf #nasdaq100 #sp500 #us500 #rut #stocktrading #stockstowatch #stockstobuy   \n",
       "61839                                                                                                         what will this week bring to the markets? #profitsrun #billpoulos #investing #wallstreet #stockmarket #nyse #nasdaq #sp500 #dowjones   \n",
       "61840  will the s&p 500 sustain its momentum for a few more weeks and make this the greatest rally from the lows till election time? #stocks #markets #economy #investing #financialservices #rally #recovery #electionday #bullmarket #spx #sp500   \n",
       "61841                                                                                    with #es #spx above 3500 we are starting a new week let’s get ready for some profitable days  wishing the best for all of you have a great trading week! 👊  \n",
       "61842                                                                 yellow level mfe table for the week 24 28 august 2020 performance: +104 69 read more    &gt&gt&gt #spx #dax #eurusd #gbpusd #usdjpy #ftse #dow #nasdaq #usoil #gold #trading   \n",
       "\n",
       "[61843 rows x 2 columns]"
      ]
     },
     "execution_count": 4,
     "metadata": {},
     "output_type": "execute_result"
    }
   ],
   "source": [
    "data['date'] = pd.to_datetime(data['date'])\n",
    "data"
   ]
  },
  {
   "cell_type": "markdown",
   "metadata": {},
   "source": [
    "APPLICATION OF VADER"
   ]
  },
  {
   "cell_type": "code",
   "execution_count": 5,
   "metadata": {
    "scrolled": true
   },
   "outputs": [
    {
     "data": {
      "text/html": [
       "<div>\n",
       "<style scoped>\n",
       "    .dataframe tbody tr th:only-of-type {\n",
       "        vertical-align: middle;\n",
       "    }\n",
       "\n",
       "    .dataframe tbody tr th {\n",
       "        vertical-align: top;\n",
       "    }\n",
       "\n",
       "    .dataframe thead th {\n",
       "        text-align: right;\n",
       "    }\n",
       "</style>\n",
       "<table border=\"1\" class=\"dataframe\">\n",
       "  <thead>\n",
       "    <tr style=\"text-align: right;\">\n",
       "      <th></th>\n",
       "      <th>date</th>\n",
       "      <th>text</th>\n",
       "      <th>compound</th>\n",
       "    </tr>\n",
       "  </thead>\n",
       "  <tbody>\n",
       "    <tr>\n",
       "      <th>0</th>\n",
       "      <td>2020-01-01</td>\n",
       "      <td>asends andbegins, here are some quick observations that i hope will help you stay balanced in your approach to equity investing  #retirement #sp500 #investing</td>\n",
       "      <td>0.6808</td>\n",
       "    </tr>\n",
       "    <tr>\n",
       "      <th>1</th>\n",
       "      <td>2020-01-01</td>\n",
       "      <td>#sp500  spstock index   chicago mercantile exchange commitments of traders cot legacy report tuesday,of december of#cotreport #cotindex #cftc #futures</td>\n",
       "      <td>0.1280</td>\n",
       "    </tr>\n",
       "    <tr>\n",
       "      <th>2</th>\n",
       "      <td>2020-01-01</td>\n",
       "      <td>cot index #sp500  spstock index   chicago mercantile exchange commitments of traders cot legacy report tuesday,of december of#cotreport #cotindex #cftc #futures</td>\n",
       "      <td>0.1280</td>\n",
       "    </tr>\n",
       "    <tr>\n",
       "      <th>3</th>\n",
       "      <td>2020-01-01</td>\n",
       "      <td>historical daily volatility in pips  group indexes $spx500 $nas100 $usb10y #spx500 #nas100 #usb10y #trading #forex #trends</td>\n",
       "      <td>0.0000</td>\n",
       "    </tr>\n",
       "    <tr>\n",
       "      <th>4</th>\n",
       "      <td>2020-01-01</td>\n",
       "      <td>long vs short #sp500  spstock index   chicago mercantile exchange commitments of traders cot legacy report tuesday,of december of#cotreport #cftc #futures</td>\n",
       "      <td>0.1280</td>\n",
       "    </tr>\n",
       "    <tr>\n",
       "      <th>...</th>\n",
       "      <td>...</td>\n",
       "      <td>...</td>\n",
       "      <td>...</td>\n",
       "    </tr>\n",
       "    <tr>\n",
       "      <th>61838</th>\n",
       "      <td>2020-08-30</td>\n",
       "      <td>weekly targets for making regular income from options #cashflow #tna #tqqq #fas #spy #upro #qqq #regular #income #optionstrading #options #etf #nasdaq100 #sp500 #us500 #rut #stocktrading #stockstowatch #stockstobuy</td>\n",
       "      <td>0.0000</td>\n",
       "    </tr>\n",
       "    <tr>\n",
       "      <th>61839</th>\n",
       "      <td>2020-08-30</td>\n",
       "      <td>what will this week bring to the markets? #profitsrun #billpoulos #investing #wallstreet #stockmarket #nyse #nasdaq #sp500 #dowjones</td>\n",
       "      <td>0.0000</td>\n",
       "    </tr>\n",
       "    <tr>\n",
       "      <th>61840</th>\n",
       "      <td>2020-08-30</td>\n",
       "      <td>will the s&amp;p 500 sustain its momentum for a few more weeks and make this the greatest rally from the lows till election time? #stocks #markets #economy #investing #financialservices #rally #recovery #electionday #bullmarket #spx #sp500</td>\n",
       "      <td>0.5267</td>\n",
       "    </tr>\n",
       "    <tr>\n",
       "      <th>61841</th>\n",
       "      <td>2020-08-30</td>\n",
       "      <td>with #es #spx above 3500 we are starting a new week let’s get ready for some profitable days  wishing the best for all of you have a great trading week! 👊</td>\n",
       "      <td>0.9422</td>\n",
       "    </tr>\n",
       "    <tr>\n",
       "      <th>61842</th>\n",
       "      <td>2020-08-30</td>\n",
       "      <td>yellow level mfe table for the week 24 28 august 2020 performance: +104 69 read more    &amp;gt&amp;gt&amp;gt #spx #dax #eurusd #gbpusd #usdjpy #ftse #dow #nasdaq #usoil #gold #trading</td>\n",
       "      <td>0.0000</td>\n",
       "    </tr>\n",
       "  </tbody>\n",
       "</table>\n",
       "<p>61843 rows × 3 columns</p>\n",
       "</div>"
      ],
      "text/plain": [
       "            date  \\\n",
       "0     2020-01-01   \n",
       "1     2020-01-01   \n",
       "2     2020-01-01   \n",
       "3     2020-01-01   \n",
       "4     2020-01-01   \n",
       "...          ...   \n",
       "61838 2020-08-30   \n",
       "61839 2020-08-30   \n",
       "61840 2020-08-30   \n",
       "61841 2020-08-30   \n",
       "61842 2020-08-30   \n",
       "\n",
       "                                                                                                                                                                                                                                               text  \\\n",
       "0                                                                                   asends andbegins, here are some quick observations that i hope will help you stay balanced in your approach to equity investing  #retirement #sp500 #investing    \n",
       "1                                                                                           #sp500  spstock index   chicago mercantile exchange commitments of traders cot legacy report tuesday,of december of#cotreport #cotindex #cftc #futures    \n",
       "2                                                                                 cot index #sp500  spstock index   chicago mercantile exchange commitments of traders cot legacy report tuesday,of december of#cotreport #cotindex #cftc #futures    \n",
       "3                                                                                                                       historical daily volatility in pips  group indexes $spx500 $nas100 $usb10y #spx500 #nas100 #usb10y #trading #forex #trends    \n",
       "4                                                                                       long vs short #sp500  spstock index   chicago mercantile exchange commitments of traders cot legacy report tuesday,of december of#cotreport #cftc #futures    \n",
       "...                                                                                                                                                                                                                                             ...   \n",
       "61838                       weekly targets for making regular income from options #cashflow #tna #tqqq #fas #spy #upro #qqq #regular #income #optionstrading #options #etf #nasdaq100 #sp500 #us500 #rut #stocktrading #stockstowatch #stockstobuy    \n",
       "61839                                                                                                         what will this week bring to the markets? #profitsrun #billpoulos #investing #wallstreet #stockmarket #nyse #nasdaq #sp500 #dowjones    \n",
       "61840  will the s&p 500 sustain its momentum for a few more weeks and make this the greatest rally from the lows till election time? #stocks #markets #economy #investing #financialservices #rally #recovery #electionday #bullmarket #spx #sp500    \n",
       "61841                                                                                    with #es #spx above 3500 we are starting a new week let’s get ready for some profitable days  wishing the best for all of you have a great trading week! 👊   \n",
       "61842                                                                 yellow level mfe table for the week 24 28 august 2020 performance: +104 69 read more    &gt&gt&gt #spx #dax #eurusd #gbpusd #usdjpy #ftse #dow #nasdaq #usoil #gold #trading    \n",
       "\n",
       "       compound  \n",
       "0        0.6808  \n",
       "1        0.1280  \n",
       "2        0.1280  \n",
       "3        0.0000  \n",
       "4        0.1280  \n",
       "...         ...  \n",
       "61838    0.0000  \n",
       "61839    0.0000  \n",
       "61840    0.5267  \n",
       "61841    0.9422  \n",
       "61842    0.0000  \n",
       "\n",
       "[61843 rows x 3 columns]"
      ]
     },
     "execution_count": 5,
     "metadata": {},
     "output_type": "execute_result"
    }
   ],
   "source": [
    "vader = SentimentIntensityAnalyzer() \n",
    "\n",
    "#compound: The normalized compound score which calculates the sum of all lexicon ratings and takes values from -1 to 1\n",
    "\n",
    "# Iterate through the headlines and get the polarity scores using vader\n",
    "f = lambda title: vader.polarity_scores(title)['compound']\n",
    "data['compound'] = data['text'].apply(f)\n",
    "\n",
    "data"
   ]
  },
  {
   "cell_type": "code",
   "execution_count": 6,
   "metadata": {},
   "outputs": [
    {
     "data": {
      "text/plain": [
       "0        1\n",
       "1        1\n",
       "2        1\n",
       "3        1\n",
       "4        1\n",
       "        ..\n",
       "61838    8\n",
       "61839    8\n",
       "61840    8\n",
       "61841    8\n",
       "61842    8\n",
       "Name: date, Length: 61843, dtype: int64"
      ]
     },
     "execution_count": 6,
     "metadata": {},
     "output_type": "execute_result"
    }
   ],
   "source": [
    "data.date.dt.month #OK, I HAVE DATA TILL AUGUST"
   ]
  },
  {
   "cell_type": "markdown",
   "metadata": {},
   "source": [
    "COMPUTE AVG OF COMPOUND SCORE FOR EACH DAY"
   ]
  },
  {
   "cell_type": "code",
   "execution_count": 7,
   "metadata": {},
   "outputs": [],
   "source": [
    "mean_df = data.groupby(\"date\").mean()"
   ]
  },
  {
   "cell_type": "code",
   "execution_count": 8,
   "metadata": {},
   "outputs": [
    {
     "data": {
      "text/html": [
       "<div>\n",
       "<style scoped>\n",
       "    .dataframe tbody tr th:only-of-type {\n",
       "        vertical-align: middle;\n",
       "    }\n",
       "\n",
       "    .dataframe tbody tr th {\n",
       "        vertical-align: top;\n",
       "    }\n",
       "\n",
       "    .dataframe thead th {\n",
       "        text-align: right;\n",
       "    }\n",
       "</style>\n",
       "<table border=\"1\" class=\"dataframe\">\n",
       "  <thead>\n",
       "    <tr style=\"text-align: right;\">\n",
       "      <th></th>\n",
       "      <th>compound</th>\n",
       "    </tr>\n",
       "    <tr>\n",
       "      <th>date</th>\n",
       "      <th></th>\n",
       "    </tr>\n",
       "  </thead>\n",
       "  <tbody>\n",
       "    <tr>\n",
       "      <th>2020-01-01</th>\n",
       "      <td>0.086978</td>\n",
       "    </tr>\n",
       "    <tr>\n",
       "      <th>2020-01-02</th>\n",
       "      <td>0.082749</td>\n",
       "    </tr>\n",
       "    <tr>\n",
       "      <th>2020-01-03</th>\n",
       "      <td>0.007559</td>\n",
       "    </tr>\n",
       "    <tr>\n",
       "      <th>2020-01-04</th>\n",
       "      <td>-0.014918</td>\n",
       "    </tr>\n",
       "    <tr>\n",
       "      <th>2020-01-05</th>\n",
       "      <td>0.013048</td>\n",
       "    </tr>\n",
       "    <tr>\n",
       "      <th>...</th>\n",
       "      <td>...</td>\n",
       "    </tr>\n",
       "    <tr>\n",
       "      <th>2020-08-26</th>\n",
       "      <td>0.097091</td>\n",
       "    </tr>\n",
       "    <tr>\n",
       "      <th>2020-08-27</th>\n",
       "      <td>0.123987</td>\n",
       "    </tr>\n",
       "    <tr>\n",
       "      <th>2020-08-28</th>\n",
       "      <td>0.137380</td>\n",
       "    </tr>\n",
       "    <tr>\n",
       "      <th>2020-08-29</th>\n",
       "      <td>0.130834</td>\n",
       "    </tr>\n",
       "    <tr>\n",
       "      <th>2020-08-30</th>\n",
       "      <td>0.137854</td>\n",
       "    </tr>\n",
       "  </tbody>\n",
       "</table>\n",
       "<p>237 rows × 1 columns</p>\n",
       "</div>"
      ],
      "text/plain": [
       "            compound\n",
       "date                \n",
       "2020-01-01  0.086978\n",
       "2020-01-02  0.082749\n",
       "2020-01-03  0.007559\n",
       "2020-01-04 -0.014918\n",
       "2020-01-05  0.013048\n",
       "...              ...\n",
       "2020-08-26  0.097091\n",
       "2020-08-27  0.123987\n",
       "2020-08-28  0.137380\n",
       "2020-08-29  0.130834\n",
       "2020-08-30  0.137854\n",
       "\n",
       "[237 rows x 1 columns]"
      ]
     },
     "execution_count": 8,
     "metadata": {},
     "output_type": "execute_result"
    }
   ],
   "source": [
    "mean_df"
   ]
  },
  {
   "cell_type": "code",
   "execution_count": 9,
   "metadata": {},
   "outputs": [
    {
     "data": {
      "text/html": [
       "<div>\n",
       "<style scoped>\n",
       "    .dataframe tbody tr th:only-of-type {\n",
       "        vertical-align: middle;\n",
       "    }\n",
       "\n",
       "    .dataframe tbody tr th {\n",
       "        vertical-align: top;\n",
       "    }\n",
       "\n",
       "    .dataframe thead th {\n",
       "        text-align: right;\n",
       "    }\n",
       "</style>\n",
       "<table border=\"1\" class=\"dataframe\">\n",
       "  <thead>\n",
       "    <tr style=\"text-align: right;\">\n",
       "      <th></th>\n",
       "      <th>vader_score</th>\n",
       "    </tr>\n",
       "    <tr>\n",
       "      <th>date</th>\n",
       "      <th></th>\n",
       "    </tr>\n",
       "  </thead>\n",
       "  <tbody>\n",
       "    <tr>\n",
       "      <th>2020-01-01</th>\n",
       "      <td>0.086978</td>\n",
       "    </tr>\n",
       "    <tr>\n",
       "      <th>2020-01-02</th>\n",
       "      <td>0.082749</td>\n",
       "    </tr>\n",
       "    <tr>\n",
       "      <th>2020-01-03</th>\n",
       "      <td>0.007559</td>\n",
       "    </tr>\n",
       "    <tr>\n",
       "      <th>2020-01-04</th>\n",
       "      <td>-0.014918</td>\n",
       "    </tr>\n",
       "    <tr>\n",
       "      <th>2020-01-05</th>\n",
       "      <td>0.013048</td>\n",
       "    </tr>\n",
       "    <tr>\n",
       "      <th>...</th>\n",
       "      <td>...</td>\n",
       "    </tr>\n",
       "    <tr>\n",
       "      <th>2020-08-26</th>\n",
       "      <td>0.097091</td>\n",
       "    </tr>\n",
       "    <tr>\n",
       "      <th>2020-08-27</th>\n",
       "      <td>0.123987</td>\n",
       "    </tr>\n",
       "    <tr>\n",
       "      <th>2020-08-28</th>\n",
       "      <td>0.137380</td>\n",
       "    </tr>\n",
       "    <tr>\n",
       "      <th>2020-08-29</th>\n",
       "      <td>0.130834</td>\n",
       "    </tr>\n",
       "    <tr>\n",
       "      <th>2020-08-30</th>\n",
       "      <td>0.137854</td>\n",
       "    </tr>\n",
       "  </tbody>\n",
       "</table>\n",
       "<p>237 rows × 1 columns</p>\n",
       "</div>"
      ],
      "text/plain": [
       "            vader_score\n",
       "date                   \n",
       "2020-01-01     0.086978\n",
       "2020-01-02     0.082749\n",
       "2020-01-03     0.007559\n",
       "2020-01-04    -0.014918\n",
       "2020-01-05     0.013048\n",
       "...                 ...\n",
       "2020-08-26     0.097091\n",
       "2020-08-27     0.123987\n",
       "2020-08-28     0.137380\n",
       "2020-08-29     0.130834\n",
       "2020-08-30     0.137854\n",
       "\n",
       "[237 rows x 1 columns]"
      ]
     },
     "execution_count": 9,
     "metadata": {},
     "output_type": "execute_result"
    }
   ],
   "source": [
    "mean_df.rename(columns = {'compound':'vader_score'}, inplace = True)\n",
    "mean_df"
   ]
  },
  {
   "cell_type": "code",
   "execution_count": 10,
   "metadata": {},
   "outputs": [],
   "source": [
    "mean_df.to_csv('sentiment_index/tweets_vader_score.csv')"
   ]
  },
  {
   "cell_type": "markdown",
   "metadata": {},
   "source": [
    "COUNT NUMBER OF TWEETS PER EACH DAY"
   ]
  },
  {
   "cell_type": "code",
   "execution_count": 24,
   "metadata": {},
   "outputs": [],
   "source": [
    "n_news = data.groupby(\"date\")['text'].count()\n",
    "n_news.to_frame().to_csv('n_months_tweets.csv')"
   ]
  },
  {
   "cell_type": "code",
   "execution_count": 12,
   "metadata": {},
   "outputs": [
    {
     "data": {
      "text/plain": [
       "<AxesSubplot:xlabel='date'>"
      ]
     },
     "execution_count": 12,
     "metadata": {},
     "output_type": "execute_result"
    },
    {
     "data": {
      "image/png": "[encoded data removed]",
      "text/plain": [
       "<Figure size 432x288 with 1 Axes>"
      ]
     },
     "metadata": {
      "needs_background": "light"
     },
     "output_type": "display_data"
    }
   ],
   "source": [
    "n_news.plot()"
   ]
  },
  {
   "cell_type": "markdown",
   "metadata": {},
   "source": [
    "COUNT NUMBER OF TWEETS PER MONTH"
   ]
  },
  {
   "cell_type": "code",
   "execution_count": 13,
   "metadata": {},
   "outputs": [
    {
     "data": {
      "text/plain": [
       "date\n",
       "1    5901\n",
       "2    5580\n",
       "3    9869\n",
       "4    8099\n",
       "5    8693\n",
       "6    8969\n",
       "7    6988\n",
       "8    7744\n",
       "Name: text, dtype: int64"
      ]
     },
     "execution_count": 13,
     "metadata": {},
     "output_type": "execute_result"
    }
   ],
   "source": [
    "monthly = data.groupby(data.date.dt.month)['text'].count()\n",
    "monthly"
   ]
  },
  {
   "cell_type": "code",
   "execution_count": 14,
   "metadata": {},
   "outputs": [
    {
     "data": {
      "text/plain": [
       "Text(0.5, 1.0, 'NUMBER OF TWEETS OVER 2020')"
      ]
     },
     "execution_count": 14,
     "metadata": {},
     "output_type": "execute_result"
    },
    {
     "data": {
      "image/png": "[encoded data removed]",
      "text/plain": [
       "<Figure size 432x288 with 1 Axes>"
      ]
     },
     "metadata": {
      "needs_background": "light"
     },
     "output_type": "display_data"
    }
   ],
   "source": [
    "monthly.plot()\n",
    "plt.title(\"NUMBER OF TWEETS OVER 2020\")"
   ]
  },
  {
   "cell_type": "markdown",
   "metadata": {},
   "source": [
    "PLOT THE VADER SENTIMENT SCORES FOR TWEETS DATASET"
   ]
  },
  {
   "cell_type": "code",
   "execution_count": 15,
   "metadata": {},
   "outputs": [
    {
     "data": {
      "text/plain": [
       "<matplotlib.lines.Line2D at 0x2b7ca506fc8>"
      ]
     },
     "execution_count": 15,
     "metadata": {},
     "output_type": "execute_result"
    },
    {
     "data": {
      "image/png": "[encoded data removed]",
      "text/plain": [
       "<Figure size 432x288 with 1 Axes>"
      ]
     },
     "metadata": {
      "needs_background": "light"
     },
     "output_type": "display_data"
    }
   ],
   "source": [
    "mean_df.plot()\n",
    "plt.axhline(0, color='red')"
   ]
  },
  {
   "cell_type": "code",
   "execution_count": 16,
   "metadata": {},
   "outputs": [
    {
     "data": {
      "text/html": [
       "<div>\n",
       "<style scoped>\n",
       "    .dataframe tbody tr th:only-of-type {\n",
       "        vertical-align: middle;\n",
       "    }\n",
       "\n",
       "    .dataframe tbody tr th {\n",
       "        vertical-align: top;\n",
       "    }\n",
       "\n",
       "    .dataframe thead th {\n",
       "        text-align: right;\n",
       "    }\n",
       "</style>\n",
       "<table border=\"1\" class=\"dataframe\">\n",
       "  <thead>\n",
       "    <tr style=\"text-align: right;\">\n",
       "      <th></th>\n",
       "      <th>vader_score</th>\n",
       "    </tr>\n",
       "    <tr>\n",
       "      <th>date</th>\n",
       "      <th></th>\n",
       "    </tr>\n",
       "  </thead>\n",
       "  <tbody>\n",
       "    <tr>\n",
       "      <th>1</th>\n",
       "      <td>0.048057</td>\n",
       "    </tr>\n",
       "    <tr>\n",
       "      <th>2</th>\n",
       "      <td>0.037711</td>\n",
       "    </tr>\n",
       "    <tr>\n",
       "      <th>3</th>\n",
       "      <td>0.030616</td>\n",
       "    </tr>\n",
       "    <tr>\n",
       "      <th>4</th>\n",
       "      <td>0.058698</td>\n",
       "    </tr>\n",
       "    <tr>\n",
       "      <th>5</th>\n",
       "      <td>0.071315</td>\n",
       "    </tr>\n",
       "    <tr>\n",
       "      <th>6</th>\n",
       "      <td>0.073578</td>\n",
       "    </tr>\n",
       "    <tr>\n",
       "      <th>7</th>\n",
       "      <td>0.101697</td>\n",
       "    </tr>\n",
       "    <tr>\n",
       "      <th>8</th>\n",
       "      <td>0.094383</td>\n",
       "    </tr>\n",
       "  </tbody>\n",
       "</table>\n",
       "</div>"
      ],
      "text/plain": [
       "      vader_score\n",
       "date             \n",
       "1        0.048057\n",
       "2        0.037711\n",
       "3        0.030616\n",
       "4        0.058698\n",
       "5        0.071315\n",
       "6        0.073578\n",
       "7        0.101697\n",
       "8        0.094383"
      ]
     },
     "execution_count": 16,
     "metadata": {},
     "output_type": "execute_result"
    }
   ],
   "source": [
    "mean_month = mean_df.groupby(mean_df.index.month).mean() #avg for each month\n",
    "mean_month"
   ]
  },
  {
   "cell_type": "code",
   "execution_count": 17,
   "metadata": {},
   "outputs": [
    {
     "data": {
      "text/plain": [
       "<matplotlib.lines.Line2D at 0x2b7ca583f88>"
      ]
     },
     "execution_count": 17,
     "metadata": {},
     "output_type": "execute_result"
    },
    {
     "data": {
      "image/png": "[encoded data removed]",
      "text/plain": [
       "<Figure size 432x288 with 1 Axes>"
      ]
     },
     "metadata": {
      "needs_background": "light"
     },
     "output_type": "display_data"
    }
   ],
   "source": [
    "mean_month.plot()\n",
    "plt.axhline(0, color='red')"
   ]
  },
  {
   "cell_type": "markdown",
   "metadata": {},
   "source": [
    "CREATION OF VADER LABELS (POSITIVE, NEUTRAL, NEGATIVE) WITH A COMPOUND TRESHOLD OF [ -0.025, +0.025 ]"
   ]
  },
  {
   "cell_type": "code",
   "execution_count": 18,
   "metadata": {},
   "outputs": [
    {
     "data": {
      "text/html": [
       "<div>\n",
       "<style scoped>\n",
       "    .dataframe tbody tr th:only-of-type {\n",
       "        vertical-align: middle;\n",
       "    }\n",
       "\n",
       "    .dataframe tbody tr th {\n",
       "        vertical-align: top;\n",
       "    }\n",
       "\n",
       "    .dataframe thead th {\n",
       "        text-align: right;\n",
       "    }\n",
       "</style>\n",
       "<table border=\"1\" class=\"dataframe\">\n",
       "  <thead>\n",
       "    <tr style=\"text-align: right;\">\n",
       "      <th></th>\n",
       "      <th>date</th>\n",
       "      <th>text</th>\n",
       "      <th>vader_score</th>\n",
       "      <th>vader_label</th>\n",
       "    </tr>\n",
       "  </thead>\n",
       "  <tbody>\n",
       "    <tr>\n",
       "      <th>13082</th>\n",
       "      <td>2020-03-06</td>\n",
       "      <td>no, i didn’t die current view  #sp500</td>\n",
       "      <td>-0.7269</td>\n",
       "      <td>negative</td>\n",
       "    </tr>\n",
       "    <tr>\n",
       "      <th>31550</th>\n",
       "      <td>2020-05-07</td>\n",
       "      <td>hy guys, changing apartment and i don t have much time  watch #sp500 and #nzdchf for a short entry  #tezos needs to break the86usd level and if the60usd support breaks, we could expect price to move down to the next support33usd  take care! #crypto #forex #stocks</td>\n",
       "      <td>0.7345</td>\n",
       "      <td>positive</td>\n",
       "    </tr>\n",
       "    <tr>\n",
       "      <th>11514</th>\n",
       "      <td>2020-03-01</td>\n",
       "      <td>if #caronavirus really gets out of control, and that is whats happening, #djia could do a complete retrace to 18,000 which is where it was when #trump got elected #qqq #spy #spx #nasdaq #oott #wticrude #gld #gold #slv #covid19 #china #wuhan #wallstreet #btc #bitcoin #xrp #ltc</td>\n",
       "      <td>0.0000</td>\n",
       "      <td>neutral</td>\n",
       "    </tr>\n",
       "    <tr>\n",
       "      <th>27622</th>\n",
       "      <td>2020-04-24</td>\n",
       "      <td>spx – the bull’s counterattack    #spx chart</td>\n",
       "      <td>0.0000</td>\n",
       "      <td>neutral</td>\n",
       "    </tr>\n",
       "    <tr>\n",
       "      <th>55705</th>\n",
       "      <td>2020-08-07</td>\n",
       "      <td>#ndx #spx #djia #oott rub a dub dub</td>\n",
       "      <td>0.0000</td>\n",
       "      <td>neutral</td>\n",
       "    </tr>\n",
       "  </tbody>\n",
       "</table>\n",
       "</div>"
      ],
      "text/plain": [
       "            date  \\\n",
       "13082 2020-03-06   \n",
       "31550 2020-05-07   \n",
       "11514 2020-03-01   \n",
       "27622 2020-04-24   \n",
       "55705 2020-08-07   \n",
       "\n",
       "                                                                                                                                                                                                                                                                                        text  \\\n",
       "13082                                                                                                                                                                                                                                                 no, i didn’t die current view  #sp500    \n",
       "31550                hy guys, changing apartment and i don t have much time  watch #sp500 and #nzdchf for a short entry  #tezos needs to break the86usd level and if the60usd support breaks, we could expect price to move down to the next support33usd  take care! #crypto #forex #stocks   \n",
       "11514  if #caronavirus really gets out of control, and that is whats happening, #djia could do a complete retrace to 18,000 which is where it was when #trump got elected #qqq #spy #spx #nasdaq #oott #wticrude #gld #gold #slv #covid19 #china #wuhan #wallstreet #btc #bitcoin #xrp #ltc    \n",
       "27622                                                                                                                                                                                                                                          spx – the bull’s counterattack    #spx chart    \n",
       "55705                                                                                                                                                                                                                                                   #ndx #spx #djia #oott rub a dub dub    \n",
       "\n",
       "       vader_score vader_label  \n",
       "13082      -0.7269    negative  \n",
       "31550       0.7345    positive  \n",
       "11514       0.0000     neutral  \n",
       "27622       0.0000     neutral  \n",
       "55705       0.0000     neutral  "
      ]
     },
     "execution_count": 18,
     "metadata": {},
     "output_type": "execute_result"
    }
   ],
   "source": [
    "def format_output(output_dict):\n",
    "  \n",
    "    polarity = \"neutral\"\n",
    "\n",
    "    if output_dict['compound']>= 0.025:\n",
    "        polarity = \"positive\"\n",
    "\n",
    "    elif output_dict['compound']<= -0.025:\n",
    "        polarity = \"negative\"\n",
    "\n",
    "    return polarity\n",
    "\n",
    "def predict_sentiment(text):\n",
    "  \n",
    "    output_dict =  vader.polarity_scores(text)\n",
    "    return format_output(output_dict)\n",
    "\n",
    "# Run the predictions\n",
    "data[\"vader_prediction\"] = data[\"text\"].apply(predict_sentiment)\n",
    "\n",
    "data.rename(columns = {'compound':'vader_score'}, inplace = True)\n",
    "data.rename(columns = {'vader_prediction':'vader_label'}, inplace = True)\n",
    "\n",
    "# Show 5 random rows of the data\n",
    "data.sample(5)"
   ]
  },
  {
   "cell_type": "code",
   "execution_count": 19,
   "metadata": {},
   "outputs": [
    {
     "data": {
      "text/html": [
       "<div>\n",
       "<style scoped>\n",
       "    .dataframe tbody tr th:only-of-type {\n",
       "        vertical-align: middle;\n",
       "    }\n",
       "\n",
       "    .dataframe tbody tr th {\n",
       "        vertical-align: top;\n",
       "    }\n",
       "\n",
       "    .dataframe thead th {\n",
       "        text-align: right;\n",
       "    }\n",
       "</style>\n",
       "<table border=\"1\" class=\"dataframe\">\n",
       "  <thead>\n",
       "    <tr style=\"text-align: right;\">\n",
       "      <th></th>\n",
       "      <th>date</th>\n",
       "      <th>text</th>\n",
       "      <th>vader_score</th>\n",
       "      <th>vader_label</th>\n",
       "    </tr>\n",
       "  </thead>\n",
       "  <tbody>\n",
       "    <tr>\n",
       "      <th>0</th>\n",
       "      <td>2020-01-01</td>\n",
       "      <td>asends andbegins, here are some quick observations that i hope will help you stay balanced in your approach to equity investing  #retirement #sp500 #investing</td>\n",
       "      <td>0.6808</td>\n",
       "      <td>positive</td>\n",
       "    </tr>\n",
       "    <tr>\n",
       "      <th>1</th>\n",
       "      <td>2020-01-01</td>\n",
       "      <td>#sp500  spstock index   chicago mercantile exchange commitments of traders cot legacy report tuesday,of december of#cotreport #cotindex #cftc #futures</td>\n",
       "      <td>0.1280</td>\n",
       "      <td>positive</td>\n",
       "    </tr>\n",
       "    <tr>\n",
       "      <th>2</th>\n",
       "      <td>2020-01-01</td>\n",
       "      <td>cot index #sp500  spstock index   chicago mercantile exchange commitments of traders cot legacy report tuesday,of december of#cotreport #cotindex #cftc #futures</td>\n",
       "      <td>0.1280</td>\n",
       "      <td>positive</td>\n",
       "    </tr>\n",
       "    <tr>\n",
       "      <th>3</th>\n",
       "      <td>2020-01-01</td>\n",
       "      <td>historical daily volatility in pips  group indexes $spx500 $nas100 $usb10y #spx500 #nas100 #usb10y #trading #forex #trends</td>\n",
       "      <td>0.0000</td>\n",
       "      <td>neutral</td>\n",
       "    </tr>\n",
       "    <tr>\n",
       "      <th>4</th>\n",
       "      <td>2020-01-01</td>\n",
       "      <td>long vs short #sp500  spstock index   chicago mercantile exchange commitments of traders cot legacy report tuesday,of december of#cotreport #cftc #futures</td>\n",
       "      <td>0.1280</td>\n",
       "      <td>positive</td>\n",
       "    </tr>\n",
       "    <tr>\n",
       "      <th>...</th>\n",
       "      <td>...</td>\n",
       "      <td>...</td>\n",
       "      <td>...</td>\n",
       "      <td>...</td>\n",
       "    </tr>\n",
       "    <tr>\n",
       "      <th>61838</th>\n",
       "      <td>2020-08-30</td>\n",
       "      <td>weekly targets for making regular income from options #cashflow #tna #tqqq #fas #spy #upro #qqq #regular #income #optionstrading #options #etf #nasdaq100 #sp500 #us500 #rut #stocktrading #stockstowatch #stockstobuy</td>\n",
       "      <td>0.0000</td>\n",
       "      <td>neutral</td>\n",
       "    </tr>\n",
       "    <tr>\n",
       "      <th>61839</th>\n",
       "      <td>2020-08-30</td>\n",
       "      <td>what will this week bring to the markets? #profitsrun #billpoulos #investing #wallstreet #stockmarket #nyse #nasdaq #sp500 #dowjones</td>\n",
       "      <td>0.0000</td>\n",
       "      <td>neutral</td>\n",
       "    </tr>\n",
       "    <tr>\n",
       "      <th>61840</th>\n",
       "      <td>2020-08-30</td>\n",
       "      <td>will the s&amp;p 500 sustain its momentum for a few more weeks and make this the greatest rally from the lows till election time? #stocks #markets #economy #investing #financialservices #rally #recovery #electionday #bullmarket #spx #sp500</td>\n",
       "      <td>0.5267</td>\n",
       "      <td>positive</td>\n",
       "    </tr>\n",
       "    <tr>\n",
       "      <th>61841</th>\n",
       "      <td>2020-08-30</td>\n",
       "      <td>with #es #spx above 3500 we are starting a new week let’s get ready for some profitable days  wishing the best for all of you have a great trading week! 👊</td>\n",
       "      <td>0.9422</td>\n",
       "      <td>positive</td>\n",
       "    </tr>\n",
       "    <tr>\n",
       "      <th>61842</th>\n",
       "      <td>2020-08-30</td>\n",
       "      <td>yellow level mfe table for the week 24 28 august 2020 performance: +104 69 read more    &amp;gt&amp;gt&amp;gt #spx #dax #eurusd #gbpusd #usdjpy #ftse #dow #nasdaq #usoil #gold #trading</td>\n",
       "      <td>0.0000</td>\n",
       "      <td>neutral</td>\n",
       "    </tr>\n",
       "  </tbody>\n",
       "</table>\n",
       "<p>61843 rows × 4 columns</p>\n",
       "</div>"
      ],
      "text/plain": [
       "            date  \\\n",
       "0     2020-01-01   \n",
       "1     2020-01-01   \n",
       "2     2020-01-01   \n",
       "3     2020-01-01   \n",
       "4     2020-01-01   \n",
       "...          ...   \n",
       "61838 2020-08-30   \n",
       "61839 2020-08-30   \n",
       "61840 2020-08-30   \n",
       "61841 2020-08-30   \n",
       "61842 2020-08-30   \n",
       "\n",
       "                                                                                                                                                                                                                                               text  \\\n",
       "0                                                                                   asends andbegins, here are some quick observations that i hope will help you stay balanced in your approach to equity investing  #retirement #sp500 #investing    \n",
       "1                                                                                           #sp500  spstock index   chicago mercantile exchange commitments of traders cot legacy report tuesday,of december of#cotreport #cotindex #cftc #futures    \n",
       "2                                                                                 cot index #sp500  spstock index   chicago mercantile exchange commitments of traders cot legacy report tuesday,of december of#cotreport #cotindex #cftc #futures    \n",
       "3                                                                                                                       historical daily volatility in pips  group indexes $spx500 $nas100 $usb10y #spx500 #nas100 #usb10y #trading #forex #trends    \n",
       "4                                                                                       long vs short #sp500  spstock index   chicago mercantile exchange commitments of traders cot legacy report tuesday,of december of#cotreport #cftc #futures    \n",
       "...                                                                                                                                                                                                                                             ...   \n",
       "61838                       weekly targets for making regular income from options #cashflow #tna #tqqq #fas #spy #upro #qqq #regular #income #optionstrading #options #etf #nasdaq100 #sp500 #us500 #rut #stocktrading #stockstowatch #stockstobuy    \n",
       "61839                                                                                                         what will this week bring to the markets? #profitsrun #billpoulos #investing #wallstreet #stockmarket #nyse #nasdaq #sp500 #dowjones    \n",
       "61840  will the s&p 500 sustain its momentum for a few more weeks and make this the greatest rally from the lows till election time? #stocks #markets #economy #investing #financialservices #rally #recovery #electionday #bullmarket #spx #sp500    \n",
       "61841                                                                                    with #es #spx above 3500 we are starting a new week let’s get ready for some profitable days  wishing the best for all of you have a great trading week! 👊   \n",
       "61842                                                                 yellow level mfe table for the week 24 28 august 2020 performance: +104 69 read more    &gt&gt&gt #spx #dax #eurusd #gbpusd #usdjpy #ftse #dow #nasdaq #usoil #gold #trading    \n",
       "\n",
       "       vader_score vader_label  \n",
       "0           0.6808    positive  \n",
       "1           0.1280    positive  \n",
       "2           0.1280    positive  \n",
       "3           0.0000     neutral  \n",
       "4           0.1280    positive  \n",
       "...            ...         ...  \n",
       "61838       0.0000     neutral  \n",
       "61839       0.0000     neutral  \n",
       "61840       0.5267    positive  \n",
       "61841       0.9422    positive  \n",
       "61842       0.0000     neutral  \n",
       "\n",
       "[61843 rows x 4 columns]"
      ]
     },
     "execution_count": 19,
     "metadata": {},
     "output_type": "execute_result"
    }
   ],
   "source": [
    "data"
   ]
  },
  {
   "cell_type": "code",
   "execution_count": 20,
   "metadata": {},
   "outputs": [
    {
     "data": {
      "text/plain": [
       "neutral     25737\n",
       "positive    21484\n",
       "negative    14622\n",
       "Name: vader_label, dtype: int64"
      ]
     },
     "execution_count": 20,
     "metadata": {},
     "output_type": "execute_result"
    }
   ],
   "source": [
    "data['vader_label'].value_counts()"
   ]
  },
  {
   "cell_type": "code",
   "execution_count": 21,
   "metadata": {},
   "outputs": [
    {
     "data": {
      "text/plain": [
       "neutral     0.416167\n",
       "positive    0.347396\n",
       "negative    0.236437\n",
       "Name: vader_label, dtype: float64"
      ]
     },
     "execution_count": 21,
     "metadata": {},
     "output_type": "execute_result"
    }
   ],
   "source": [
    "data['vader_label'].value_counts(normalize=True) #better results than before when the threshold was 0.05, the number of neutrals are lower and positive+negative higher "
   ]
  },
  {
   "cell_type": "code",
   "execution_count": 23,
   "metadata": {},
   "outputs": [],
   "source": [
    "data.to_csv('sentiment_analysis_results/tweets_vader_senti_after_cl.csv', index=False, encoding='utf-8-sig')"
   ]
  }
 ],
 "metadata": {
  "kernelspec": {
   "display_name": "Python 3",
   "language": "python",
   "name": "python3"
  },
  "language_info": {
   "codemirror_mode": {
    "name": "ipython",
    "version": 3
   },
   "file_extension": ".py",
   "mimetype": "text/x-python",
   "name": "python",
   "nbconvert_exporter": "python",
   "pygments_lexer": "ipython3",
   "version": "3.7.4"
  }
 },
 "nbformat": 4,
 "nbformat_minor": 4
}
